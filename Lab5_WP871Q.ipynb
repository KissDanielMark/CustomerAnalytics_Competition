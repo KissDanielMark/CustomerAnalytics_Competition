{
 "cells": [
  {
   "cell_type": "markdown",
   "metadata": {},
   "source": [
    "# <center>Kiss Dániel Márk</center>\n",
    "## <center>WP871Q</center>"
   ]
  },
  {
   "cell_type": "markdown",
   "metadata": {},
   "source": [
    "# Library import"
   ]
  },
  {
   "cell_type": "code",
   "execution_count": 1,
   "metadata": {},
   "outputs": [],
   "source": [
    "import pandas as pd\n",
    "from sklearn.model_selection import train_test_split\n",
    "from sklearn.tree import DecisionTreeClassifier\n",
    "from sklearn.metrics import accuracy_score"
   ]
  },
  {
   "cell_type": "markdown",
   "metadata": {},
   "source": [
    "# Loading train set"
   ]
  },
  {
   "cell_type": "code",
   "execution_count": 2,
   "metadata": {},
   "outputs": [],
   "source": [
    "df_verseny_public_train = pd.read_csv('data/verseny_public_train.csv', sep=',', low_memory=False)"
   ]
  },
  {
   "cell_type": "markdown",
   "metadata": {},
   "source": [
    "# Remove missing values"
   ]
  },
  {
   "cell_type": "code",
   "execution_count": 3,
   "metadata": {},
   "outputs": [],
   "source": [
    "df_verseny_public_train = df_verseny_public_train.dropna()"
   ]
  },
  {
   "cell_type": "markdown",
   "metadata": {},
   "source": [
    "# Selecting columns with the highest variance in the training set"
   ]
  },
  {
   "cell_type": "code",
   "execution_count": 4,
   "metadata": {},
   "outputs": [
    {
     "data": {
      "text/plain": [
       "cookie_id      8.333417e+08\n",
       "Topic63_ec     6.155122e+03\n",
       "Topic52_ec     4.236199e+03\n",
       "Topic42_ec     3.855324e+03\n",
       "Topic33_ec     3.570435e+03\n",
       "                   ...     \n",
       "Topic173_ic    0.000000e+00\n",
       "Topic171_ec    0.000000e+00\n",
       "Topic171_ic    0.000000e+00\n",
       "Topic170_ec    0.000000e+00\n",
       "Topic170_ic    0.000000e+00\n",
       "Length: 258, dtype: float64"
      ]
     },
     "execution_count": 4,
     "metadata": {},
     "output_type": "execute_result"
    }
   ],
   "source": [
    "df_verseny_public_train.var().sort_values(ascending=False)"
   ]
  },
  {
   "cell_type": "code",
   "execution_count": 5,
   "metadata": {},
   "outputs": [],
   "source": [
    "y = df_verseny_public_train['target']\n",
    "var10 = df_verseny_public_train[df_verseny_public_train.var().sort_values(ascending=False).index[:10]]\n",
    "var20 = df_verseny_public_train[df_verseny_public_train.var().sort_values(ascending=False).index[:20]]\n",
    "var50 = df_verseny_public_train[df_verseny_public_train.var().sort_values(ascending=False).index[:50]]\n",
    "var100 = df_verseny_public_train[df_verseny_public_train.var().sort_values(ascending=False).index[:100]]"
   ]
  },
  {
   "cell_type": "code",
   "execution_count": 6,
   "metadata": {},
   "outputs": [],
   "source": [
    "X10 = var10.drop(['cookie_id'], axis=1)\n",
    "X20 = var20.drop(['cookie_id'], axis=1)\n",
    "X50 = var50.drop(['cookie_id'], axis=1)\n",
    "X100 = var100.drop(['cookie_id'], axis=1)"
   ]
  },
  {
   "cell_type": "code",
   "execution_count": 10,
   "metadata": {},
   "outputs": [],
   "source": [
    "X_train10, X_test10, y_train10, y_test10 = train_test_split(X10, y, test_size=0.2, random_state=42)\n",
    "X_train20, X_test20, y_train20, y_test20 = train_test_split(X20, y, test_size=0.2, random_state=42)\n",
    "X_train50, X_test50, y_train50, y_test50 = train_test_split(X50, y, test_size=0.2, random_state=42)\n",
    "X_train100, X_test100, y_train100, y_test100 = train_test_split(X100, y, test_size=0.2, random_state=42)"
   ]
  },
  {
   "cell_type": "markdown",
   "metadata": {},
   "source": [
    "# Decision tree"
   ]
  },
  {
   "cell_type": "code",
   "execution_count": 8,
   "metadata": {},
   "outputs": [
    {
     "name": "stdout",
     "output_type": "stream",
     "text": [
      "Decision Tree Classifier\n",
      "Accuracy for 10 features:  0.97335\n",
      "Accuracy for 20 features:  0.9715\n",
      "Accuracy for 50 features:  0.96815\n",
      "Accuracy for 100 features:  0.96775\n"
     ]
    }
   ],
   "source": [
    "clf10 = DecisionTreeClassifier(random_state=42)\n",
    "clf20 = DecisionTreeClassifier(random_state=42)\n",
    "clf50 = DecisionTreeClassifier(random_state=42)\n",
    "clf100 = DecisionTreeClassifier(random_state=42)\n",
    "\n",
    "clf10.fit(X_train10, y_train10)\n",
    "clf20.fit(X_train20, y_train20)\n",
    "clf50.fit(X_train50, y_train50)\n",
    "clf100.fit(X_train100, y_train100)\n",
    "\n",
    "y_pred10 = clf10.predict(X_test10)\n",
    "y_pred20 = clf20.predict(X_test20)\n",
    "y_pred50 = clf50.predict(X_test50)\n",
    "y_pred100 = clf100.predict(X_test100)\n",
    "\n",
    "accuracy10 = accuracy_score(y_test10, y_pred10)\n",
    "accuracy20 = accuracy_score(y_test20, y_pred20)\n",
    "accuracy50 = accuracy_score(y_test50, y_pred50)\n",
    "accuracy100 = accuracy_score(y_test100, y_pred100)\n",
    "\n",
    "print('Decision Tree Classifier')\n",
    "print('Accuracy for 10 features: ', accuracy10)\n",
    "print('Accuracy for 20 features: ', accuracy20)\n",
    "print('Accuracy for 50 features: ', accuracy50)\n",
    "print('Accuracy for 100 features: ', accuracy100)"
   ]
  },
  {
   "cell_type": "code",
   "execution_count": 11,
   "metadata": {},
   "outputs": [],
   "source": [
    "column_names = list(X10.columns)"
   ]
  },
  {
   "cell_type": "code",
   "execution_count": 12,
   "metadata": {},
   "outputs": [
    {
     "data": {
      "text/plain": [
       "['Topic63_ec',\n",
       " 'Topic52_ec',\n",
       " 'Topic42_ec',\n",
       " 'Topic33_ec',\n",
       " 'Topic5_ec',\n",
       " 'Topic8_ec',\n",
       " 'Topic19_ec',\n",
       " 'Topic4_ec',\n",
       " 'Topic13_ec']"
      ]
     },
     "execution_count": 12,
     "metadata": {},
     "output_type": "execute_result"
    }
   ],
   "source": [
    "list(column_names)"
   ]
  },
  {
   "cell_type": "markdown",
   "metadata": {},
   "source": [
    "# Loading test set"
   ]
  },
  {
   "cell_type": "code",
   "execution_count": 15,
   "metadata": {},
   "outputs": [],
   "source": [
    "df_verseny_public_test = pd.read_csv('data/verseny_public_test.csv', sep=',', low_memory=False)"
   ]
  },
  {
   "cell_type": "code",
   "execution_count": 16,
   "metadata": {},
   "outputs": [],
   "source": [
    "X_test = df_verseny_public_test.drop(['cookie_id'], axis=1)\n",
    "X_test = X_test[column_names]"
   ]
  },
  {
   "cell_type": "code",
   "execution_count": 17,
   "metadata": {},
   "outputs": [],
   "source": [
    "y_pred_df = clf10.predict_proba(X_test)[:,1]\n",
    "\n",
    "df_verseny_public_test['target'] = y_pred_df\n",
    "\n",
    "df_verseny_public_test = df_verseny_public_test[['cookie_id', 'target']]\n",
    "\n",
    "df_verseny_public_test.to_csv('data/lab5.csv', index=False)"
   ]
  },
  {
   "cell_type": "markdown",
   "metadata": {},
   "source": [
    "# Public score: 0.38"
   ]
  },
  {
   "cell_type": "markdown",
   "metadata": {},
   "source": []
  }
 ],
 "metadata": {
  "kernelspec": {
   "display_name": ".venv",
   "language": "python",
   "name": "python3"
  },
  "language_info": {
   "codemirror_mode": {
    "name": "ipython",
    "version": 3
   },
   "file_extension": ".py",
   "mimetype": "text/x-python",
   "name": "python",
   "nbconvert_exporter": "python",
   "pygments_lexer": "ipython3",
   "version": "3.9.6"
  }
 },
 "nbformat": 4,
 "nbformat_minor": 2
}
