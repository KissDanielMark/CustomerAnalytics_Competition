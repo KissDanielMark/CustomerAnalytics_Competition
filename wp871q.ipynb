{
 "cells": [
  {
   "cell_type": "markdown",
   "metadata": {},
   "source": [
    "# <center>Kiss Dániel Márk</center>\n",
    "## <center>WP871Q</center>"
   ]
  },
  {
   "cell_type": "markdown",
   "metadata": {},
   "source": [
    "# Library import"
   ]
  },
  {
   "cell_type": "code",
   "execution_count": 640,
   "metadata": {},
   "outputs": [],
   "source": [
    "import numpy as np\n",
    "import matplotlib.pyplot as plt\n",
    "import pandas as pd\n",
    "from sklearn.model_selection import train_test_split\n",
    "from sklearn.tree import DecisionTreeClassifier\n",
    "from sklearn.ensemble import RandomForestClassifier\n",
    "import numpy as np\n",
    "from sklearn.metrics import accuracy_score"
   ]
  },
  {
   "cell_type": "markdown",
   "metadata": {},
   "source": [
    "# Data import"
   ]
  },
  {
   "cell_type": "code",
   "execution_count": 641,
   "metadata": {},
   "outputs": [],
   "source": [
    "df_verseny_public_train = pd.read_csv('data/verseny_public_train.csv', sep=',', low_memory=False)"
   ]
  },
  {
   "cell_type": "markdown",
   "metadata": {},
   "source": [
    "# Data familirsation"
   ]
  },
  {
   "cell_type": "code",
   "execution_count": 642,
   "metadata": {},
   "outputs": [],
   "source": [
    "#df_verseny_public_train"
   ]
  },
  {
   "cell_type": "code",
   "execution_count": 643,
   "metadata": {},
   "outputs": [],
   "source": [
    "#df_verseny_public_train.describe()"
   ]
  },
  {
   "cell_type": "code",
   "execution_count": 644,
   "metadata": {},
   "outputs": [],
   "source": [
    "#df_verseny_public_train.columns"
   ]
  },
  {
   "cell_type": "code",
   "execution_count": 645,
   "metadata": {},
   "outputs": [
    {
     "data": {
      "text/plain": [
       "100000"
      ]
     },
     "execution_count": 645,
     "metadata": {},
     "output_type": "execute_result"
    }
   ],
   "source": [
    "len(df_verseny_public_train)"
   ]
  },
  {
   "cell_type": "markdown",
   "metadata": {},
   "source": [
    "# Remove missing values"
   ]
  },
  {
   "cell_type": "code",
   "execution_count": 646,
   "metadata": {},
   "outputs": [],
   "source": [
    "df_verseny_public_train = df_verseny_public_train.dropna()"
   ]
  },
  {
   "cell_type": "code",
   "execution_count": 647,
   "metadata": {},
   "outputs": [
    {
     "data": {
      "text/plain": [
       "100000"
      ]
     },
     "execution_count": 647,
     "metadata": {},
     "output_type": "execute_result"
    }
   ],
   "source": [
    "len(df_verseny_public_train)"
   ]
  },
  {
   "cell_type": "markdown",
   "metadata": {},
   "source": [
    "# Selecting columns with the highest variance in the training set"
   ]
  },
  {
   "cell_type": "code",
   "execution_count": 648,
   "metadata": {},
   "outputs": [],
   "source": [
    "# Select 10-20-30-...-100 columns with the highest variance in the training set\n",
    "df_verseny_public_train.var().sort_values(ascending=False)\n",
    "\n",
    "#select first 100 columns with the highest variance\n",
    "y = df_verseny_public_train['target']\n",
    "df_verseny_public_train = df_verseny_public_train[df_verseny_public_train.var().sort_values(ascending=False).index[:100]]"
   ]
  },
  {
   "cell_type": "markdown",
   "metadata": {},
   "source": [
    "# PCA"
   ]
  },
  {
   "cell_type": "code",
   "execution_count": 649,
   "metadata": {},
   "outputs": [
    {
     "data": {
      "text/plain": [
       "\"from sklearn.decomposition import PCA\\nfrom sklearn.preprocessing import StandardScaler\\n\\nX = df_verseny_public_train.drop(['target', 'cookie_id'], axis=1)\\ny = df_verseny_public_train['target']\\n\\nscaler = StandardScaler()\\n\\nX_scaled = scaler.fit_transform(X)\\n\\npca = PCA(n_components=50)\\n\\nX_pca = pca.fit_transform(X_scaled)\\n\\nX_pca\\n\\nplt.scatter(X_pca[:, 0], X_pca[:, 1], c=y, cmap='viridis')\\n\\nplt.xlabel('First principal component')\\n\\nplt.ylabel('Second principal component')\\n\\nplt.show()\""
      ]
     },
     "execution_count": 649,
     "metadata": {},
     "output_type": "execute_result"
    }
   ],
   "source": [
    "\"\"\"from sklearn.decomposition import PCA\n",
    "from sklearn.preprocessing import StandardScaler\n",
    "\n",
    "X = df_verseny_public_train.drop(['target', 'cookie_id'], axis=1)\n",
    "y = df_verseny_public_train['target']\n",
    "\n",
    "scaler = StandardScaler()\n",
    "\n",
    "X_scaled = scaler.fit_transform(X)\n",
    "\n",
    "pca = PCA(n_components=50)\n",
    "\n",
    "X_pca = pca.fit_transform(X_scaled)\n",
    "\n",
    "X_pca\n",
    "\n",
    "plt.scatter(X_pca[:, 0], X_pca[:, 1], c=y, cmap='viridis')\n",
    "\n",
    "plt.xlabel('First principal component')\n",
    "\n",
    "plt.ylabel('Second principal component')\n",
    "\n",
    "plt.show()\"\"\""
   ]
  },
  {
   "cell_type": "markdown",
   "metadata": {},
   "source": [
    "# Feature importance"
   ]
  },
  {
   "cell_type": "code",
   "execution_count": 650,
   "metadata": {},
   "outputs": [],
   "source": [
    "X = df_verseny_public_train.drop(['cookie_id'], axis=1)\n",
    "\n",
    "X_train, X_test, y_train, y_test = train_test_split(X, y, test_size=0.2, random_state=42)"
   ]
  },
  {
   "cell_type": "markdown",
   "metadata": {},
   "source": [
    "## Decision Tree"
   ]
  },
  {
   "cell_type": "code",
   "execution_count": 651,
   "metadata": {},
   "outputs": [
    {
     "name": "stdout",
     "output_type": "stream",
     "text": [
      "Feature ranking:\n",
      "1. Feature 2 (0.040136) Topic42_ec\n",
      "2. Feature 0 (0.036941) Topic63_ec\n",
      "3. Feature 12 (0.036203) Topic12_ec\n",
      "4. Feature 41 (0.033347) Topic51_ec\n",
      "5. Feature 7 (0.033043) Topic4_ec\n",
      "6. Feature 19 (0.028929) Topic56_ec\n",
      "7. Feature 8 (0.024541) Topic13_ec\n",
      "8. Feature 42 (0.024462) Topic4_ic\n",
      "9. Feature 9 (0.024455) Topic14_ec\n",
      "10. Feature 27 (0.023779) Topic55_ic\n",
      "11. Feature 47 (0.023310) Topic13_ic\n",
      "12. Feature 22 (0.022138) Topic3_ic\n",
      "13. Feature 10 (0.021189) Topic74_ec\n",
      "14. Feature 28 (0.020392) Topic54_ec\n",
      "15. Feature 56 (0.019589) Topic56_ic\n",
      "16. Feature 58 (0.019578) Topic19_ic\n",
      "17. Feature 20 (0.019245) Topic55_ec\n",
      "18. Feature 62 (0.018520) Topic12_ic\n",
      "19. Feature 46 (0.017497) Topic14_ic\n",
      "20. Feature 26 (0.015786) Topic24_ec\n",
      "21. Feature 74 (0.015090) Topic24_ic\n",
      "22. Feature 45 (0.014526) Topic9_ec\n",
      "23. Feature 13 (0.014343) Topic65_ec\n",
      "24. Feature 14 (0.014324) Topic1_ec\n",
      "25. Feature 33 (0.014028) Topic41_ec\n",
      "26. Feature 34 (0.013468) Topic136_ec\n",
      "27. Feature 15 (0.013343) Topic16_ec\n",
      "28. Feature 31 (0.012801) Topic25_ec\n",
      "29. Feature 11 (0.011857) Topic2_ec\n",
      "30. Feature 38 (0.011807) Topic137_ec\n",
      "31. Feature 40 (0.011535) Topic99_ec\n",
      "32. Feature 54 (0.011150) Topic9_ic\n",
      "33. Feature 36 (0.010821) Topic97_ec\n",
      "34. Feature 5 (0.010519) Topic8_ec\n",
      "35. Feature 21 (0.010329) Topic53_ec\n",
      "36. Feature 51 (0.010316) Topic15_ic\n",
      "37. Feature 37 (0.010145) Topic10_ec\n",
      "38. Feature 3 (0.010039) Topic33_ec\n",
      "39. Feature 6 (0.010007) Topic19_ec\n",
      "40. Feature 17 (0.009875) Topic89_ec\n",
      "41. Feature 1 (0.009762) Topic52_ec\n",
      "42. Feature 83 (0.009636) Topic10_ic\n",
      "43. Feature 24 (0.009226) Topic3_ec\n",
      "44. Feature 4 (0.009194) Topic5_ec\n",
      "45. Feature 86 (0.009082) Topic8_ic\n",
      "46. Feature 82 (0.008515) Topic41_ic\n",
      "47. Feature 16 (0.008495) Topic35_ec\n",
      "48. Feature 32 (0.008478) Topic20_ec\n",
      "49. Feature 30 (0.007745) Topic91_ec\n",
      "50. Feature 52 (0.007186) Topic86_ec\n",
      "51. Feature 85 (0.006945) Topic5_ic\n",
      "52. Feature 81 (0.006418) Topic34_ec\n",
      "53. Feature 23 (0.006308) Topic28_ec\n",
      "54. Feature 29 (0.006169) Topic40_ec\n",
      "55. Feature 39 (0.006155) Topic15_ec\n",
      "56. Feature 84 (0.006009) Topic88_ec\n",
      "57. Feature 65 (0.005940) Topic1_ic\n",
      "58. Feature 61 (0.005804) Topic72_ec\n",
      "59. Feature 73 (0.005432) Topic131_ec\n",
      "60. Feature 68 (0.005119) Topic61_ec\n",
      "61. Feature 25 (0.004972) Topic27_ec\n",
      "62. Feature 75 (0.004931) Topic82_ec\n",
      "63. Feature 18 (0.004723) Topic23_ec\n",
      "64. Feature 35 (0.004464) Topic78_ec\n",
      "65. Feature 98 (0.004358) Topic66_ec\n",
      "66. Feature 78 (0.004294) Topic108_ec\n",
      "67. Feature 64 (0.004186) Topic62_ec\n",
      "68. Feature 53 (0.004071) Topic68_ec\n",
      "69. Feature 48 (0.004052) Topic87_ec\n",
      "70. Feature 69 (0.003948) Topic26_ec\n",
      "71. Feature 60 (0.003909) Topic117_ec\n",
      "72. Feature 63 (0.003832) Topic67_ec\n",
      "73. Feature 77 (0.003714) Topic107_ec\n",
      "74. Feature 72 (0.003563) Topic134_ec\n",
      "75. Feature 71 (0.003517) Topic130_ec\n",
      "76. Feature 90 (0.003508) Topic127_ec\n",
      "77. Feature 49 (0.003422) Topic85_ec\n",
      "78. Feature 57 (0.003355) Topic36_ec\n",
      "79. Feature 44 (0.002950) Topic60_ec\n",
      "80. Feature 89 (0.002884) Topic133_ec\n",
      "81. Feature 70 (0.002665) Topic73_ec\n",
      "82. Feature 50 (0.002556) Topic92_ec\n",
      "83. Feature 43 (0.002391) Topic37_ec\n",
      "84. Feature 76 (0.002329) Topic57_ec\n",
      "85. Feature 91 (0.002310) Topic70_ec\n",
      "86. Feature 55 (0.002248) Topic98_ec\n",
      "87. Feature 80 (0.002038) Topic64_ec\n",
      "88. Feature 87 (0.001580) Topic128_ec\n",
      "89. Feature 97 (0.001576) Topic58_ec\n",
      "90. Feature 59 (0.001559) Topic155_ec\n",
      "91. Feature 79 (0.001440) Topic100_ec\n",
      "92. Feature 88 (0.001440) Topic104_ec\n",
      "93. Feature 96 (0.001294) Topic103_ec\n",
      "94. Feature 67 (0.001098) Topic106_ec\n",
      "95. Feature 95 (0.001090) Topic105_ec\n",
      "96. Feature 66 (0.000908) Topic93_ec\n",
      "97. Feature 92 (0.000723) Topic71_ec\n",
      "98. Feature 94 (0.000719) Topic140_ec\n",
      "99. Feature 93 (0.000365) Topic83_ec\n"
     ]
    },
    {
     "data": {
      "image/png": "[encoded data removed]",
      "text/plain": [
       "<Figure size 640x480 with 1 Axes>"
      ]
     },
     "metadata": {},
     "output_type": "display_data"
    }
   ],
   "source": [
    "clf = DecisionTreeClassifier()\n",
    "\n",
    "clf.fit(X_train, y_train)\n",
    "\n",
    "importances = clf.feature_importances_\n",
    "\n",
    "indices = np.argsort(importances)[::-1]\n",
    "\n",
    "print(\"Feature ranking:\")\n",
    "for f in range(X.shape[1]):\n",
    "    print(\"%d. Feature %d (%f) %s\" % (f + 1, indices[f], importances[indices[f]], X.columns[indices[f]]))\n",
    "\n",
    "\n",
    "plt.figure()\n",
    "plt.title(\"Feature importances\")\n",
    "plt.bar(range(X.shape[1]), importances[indices],\n",
    "       color=\"r\", align=\"center\")\n",
    "plt.xticks(range(X.shape[1]), indices)\n",
    "plt.xlim([-1, X.shape[1]])\n",
    "plt.show()"
   ]
  },
  {
   "cell_type": "markdown",
   "metadata": {},
   "source": [
    "## Random forest"
   ]
  },
  {
   "cell_type": "code",
   "execution_count": 652,
   "metadata": {},
   "outputs": [
    {
     "name": "stdout",
     "output_type": "stream",
     "text": [
      "Feature ranking:\n",
      "1. Feature 0 (0.030399) Topic63_ec\n",
      "2. Feature 7 (0.029850) Topic4_ec\n",
      "3. Feature 27 (0.028577) Topic55_ic\n",
      "4. Feature 2 (0.028430) Topic42_ec\n",
      "5. Feature 12 (0.027965) Topic12_ec\n",
      "6. Feature 9 (0.027683) Topic14_ec\n",
      "7. Feature 8 (0.027458) Topic13_ec\n",
      "8. Feature 42 (0.026783) Topic4_ic\n",
      "9. Feature 62 (0.026677) Topic12_ic\n",
      "10. Feature 47 (0.025747) Topic13_ic\n",
      "11. Feature 46 (0.025063) Topic14_ic\n",
      "12. Feature 19 (0.024500) Topic56_ec\n",
      "13. Feature 41 (0.024496) Topic51_ec\n",
      "14. Feature 56 (0.023310) Topic56_ic\n",
      "15. Feature 28 (0.022780) Topic54_ec\n",
      "16. Feature 22 (0.020458) Topic3_ic\n",
      "17. Feature 20 (0.019946) Topic55_ec\n",
      "18. Feature 6 (0.018387) Topic19_ec\n",
      "19. Feature 58 (0.017079) Topic19_ic\n",
      "20. Feature 10 (0.015261) Topic74_ec\n",
      "21. Feature 13 (0.015128) Topic65_ec\n",
      "22. Feature 1 (0.015066) Topic52_ec\n",
      "23. Feature 14 (0.014834) Topic1_ec\n",
      "24. Feature 26 (0.014146) Topic24_ec\n",
      "25. Feature 54 (0.013734) Topic9_ic\n",
      "26. Feature 24 (0.013479) Topic3_ec\n",
      "27. Feature 51 (0.013336) Topic15_ic\n",
      "28. Feature 4 (0.012869) Topic5_ec\n",
      "29. Feature 65 (0.012689) Topic1_ic\n",
      "30. Feature 83 (0.012630) Topic10_ic\n",
      "31. Feature 3 (0.012499) Topic33_ec\n",
      "32. Feature 33 (0.012303) Topic41_ec\n",
      "33. Feature 5 (0.012089) Topic8_ec\n",
      "34. Feature 34 (0.011931) Topic136_ec\n",
      "35. Feature 38 (0.011829) Topic137_ec\n",
      "36. Feature 36 (0.011573) Topic97_ec\n",
      "37. Feature 74 (0.011568) Topic24_ic\n",
      "38. Feature 45 (0.011438) Topic9_ec\n",
      "39. Feature 11 (0.011230) Topic2_ec\n",
      "40. Feature 37 (0.011194) Topic10_ec\n",
      "41. Feature 82 (0.010944) Topic41_ic\n",
      "42. Feature 15 (0.010792) Topic16_ec\n",
      "43. Feature 40 (0.010573) Topic99_ec\n",
      "44. Feature 39 (0.009677) Topic15_ec\n",
      "45. Feature 31 (0.009548) Topic25_ec\n",
      "46. Feature 86 (0.008752) Topic8_ic\n",
      "47. Feature 18 (0.008336) Topic23_ec\n",
      "48. Feature 21 (0.008280) Topic53_ec\n",
      "49. Feature 85 (0.008139) Topic5_ic\n",
      "50. Feature 29 (0.008103) Topic40_ec\n",
      "51. Feature 30 (0.007560) Topic91_ec\n",
      "52. Feature 17 (0.007367) Topic89_ec\n",
      "53. Feature 23 (0.006948) Topic28_ec\n",
      "54. Feature 25 (0.006932) Topic27_ec\n",
      "55. Feature 16 (0.006826) Topic35_ec\n",
      "56. Feature 57 (0.005800) Topic36_ec\n",
      "57. Feature 32 (0.005425) Topic20_ec\n",
      "58. Feature 55 (0.004997) Topic98_ec\n",
      "59. Feature 59 (0.004827) Topic155_ec\n",
      "60. Feature 43 (0.004461) Topic37_ec\n",
      "61. Feature 68 (0.004438) Topic61_ec\n",
      "62. Feature 44 (0.004304) Topic60_ec\n",
      "63. Feature 52 (0.004291) Topic86_ec\n",
      "64. Feature 75 (0.004284) Topic82_ec\n",
      "65. Feature 64 (0.004022) Topic62_ec\n",
      "66. Feature 53 (0.003747) Topic68_ec\n",
      "67. Feature 60 (0.003696) Topic117_ec\n",
      "68. Feature 69 (0.003639) Topic26_ec\n",
      "69. Feature 84 (0.003616) Topic88_ec\n",
      "70. Feature 98 (0.003497) Topic66_ec\n",
      "71. Feature 35 (0.003195) Topic78_ec\n",
      "72. Feature 78 (0.003144) Topic108_ec\n",
      "73. Feature 81 (0.003026) Topic34_ec\n",
      "74. Feature 61 (0.002966) Topic72_ec\n",
      "75. Feature 48 (0.002934) Topic87_ec\n",
      "76. Feature 50 (0.002790) Topic92_ec\n",
      "77. Feature 89 (0.002558) Topic133_ec\n",
      "78. Feature 49 (0.002544) Topic85_ec\n",
      "79. Feature 73 (0.002399) Topic131_ec\n",
      "80. Feature 72 (0.002306) Topic134_ec\n",
      "81. Feature 77 (0.002300) Topic107_ec\n",
      "82. Feature 71 (0.002286) Topic130_ec\n",
      "83. Feature 66 (0.002231) Topic93_ec\n",
      "84. Feature 63 (0.002100) Topic67_ec\n",
      "85. Feature 76 (0.002024) Topic57_ec\n",
      "86. Feature 90 (0.001963) Topic127_ec\n",
      "87. Feature 70 (0.001957) Topic73_ec\n",
      "88. Feature 92 (0.001801) Topic71_ec\n",
      "89. Feature 91 (0.001698) Topic70_ec\n",
      "90. Feature 88 (0.001695) Topic104_ec\n",
      "91. Feature 87 (0.001585) Topic128_ec\n",
      "92. Feature 95 (0.001557) Topic105_ec\n",
      "93. Feature 80 (0.001478) Topic64_ec\n",
      "94. Feature 96 (0.001389) Topic103_ec\n",
      "95. Feature 79 (0.001337) Topic100_ec\n",
      "96. Feature 97 (0.001335) Topic58_ec\n",
      "97. Feature 67 (0.001165) Topic106_ec\n",
      "98. Feature 93 (0.001124) Topic83_ec\n",
      "99. Feature 94 (0.000879) Topic140_ec\n"
     ]
    },
    {
     "data": {
      "image/png": "[encoded data removed]",
      "text/plain": [
       "<Figure size 640x480 with 1 Axes>"
      ]
     },
     "metadata": {},
     "output_type": "display_data"
    }
   ],
   "source": [
    "clf_rf = RandomForestClassifier()\n",
    "\n",
    "clf_rf.fit(X_train, y_train)\n",
    "\n",
    "\n",
    "importances_rf = clf_rf.feature_importances_\n",
    "\n",
    "\n",
    "indices_rf = np.argsort(importances_rf)[::-1]\n",
    "\n",
    "print(\"Feature ranking:\")\n",
    "for f in range(X.shape[1]):\n",
    "    print(\"%d. Feature %d (%f) %s\" % (f + 1, indices_rf[f], importances_rf[indices_rf[f]], X.columns[indices_rf[f]]))\n",
    "\n",
    "plt.figure()\n",
    "plt.title(\"Feature importances (Random Forest)\")\n",
    "plt.bar(range(X.shape[1]), importances_rf[indices_rf],\n",
    "       color=\"r\", align=\"center\")\n",
    "plt.xticks(range(X.shape[1]), indices_rf)\n",
    "plt.xlim([-1, X.shape[1]])\n",
    "plt.show()"
   ]
  },
  {
   "cell_type": "code",
   "execution_count": 653,
   "metadata": {},
   "outputs": [
    {
     "name": "stdout",
     "output_type": "stream",
     "text": [
      "Merged Feature Importances:\n",
      "    Feature  Importance_DT  Importance_RF\n",
      "0         2       0.040136       0.028430\n",
      "1         0       0.036941       0.030399\n",
      "2        12       0.036203       0.027965\n",
      "3        41       0.033347       0.024496\n",
      "4         7       0.033043       0.029850\n",
      "..      ...            ...            ...\n",
      "94       95       0.001090       0.001557\n",
      "95       66       0.000908       0.002231\n",
      "96       92       0.000723       0.001801\n",
      "97       94       0.000719       0.000879\n",
      "98       93       0.000365       0.001124\n",
      "\n",
      "[99 rows x 3 columns]\n"
     ]
    }
   ],
   "source": [
    "dt_feature_importances = pd.DataFrame({'Feature': indices, 'Importance_DT': importances[indices]})\n",
    "rf_feature_importances = pd.DataFrame({'Feature': indices_rf, 'Importance_RF': importances_rf[indices_rf]})\n",
    "\n",
    "merged_feature_importances = pd.merge(dt_feature_importances, rf_feature_importances, on='Feature')\n",
    "\n",
    "print(\"Merged Feature Importances:\")\n",
    "print(merged_feature_importances)"
   ]
  },
  {
   "cell_type": "code",
   "execution_count": 654,
   "metadata": {},
   "outputs": [
    {
     "name": "stdout",
     "output_type": "stream",
     "text": [
      "Threshold value based on the top 50 percentileDT: 0.007185629188621481 percentileRF: 0.008103335083112865\n"
     ]
    }
   ],
   "source": [
    "percentile_threshold = 0.5\n",
    "\n",
    "importance_threshold_dt = merged_feature_importances['Importance_DT'].quantile(percentile_threshold)\n",
    "importance_threshold_rf = merged_feature_importances['Importance_RF'].quantile(percentile_threshold)\n",
    "\n",
    "print(\"Threshold value based on the top\", int(percentile_threshold * 100), \"percentileDT:\", importance_threshold_dt, \"percentileRF:\", importance_threshold_rf)\n"
   ]
  },
  {
   "cell_type": "code",
   "execution_count": 655,
   "metadata": {},
   "outputs": [
    {
     "name": "stdout",
     "output_type": "stream",
     "text": [
      "Merged Feature Importances:\n",
      "    Feature  Importance_DT  Importance_RF\n",
      "0         2       0.040136       0.028430\n",
      "1         0       0.036941       0.030399\n",
      "2        12       0.036203       0.027965\n",
      "3        41       0.033347       0.024496\n",
      "4         7       0.033043       0.029850\n",
      "5        19       0.028929       0.024500\n",
      "6         8       0.024541       0.027458\n",
      "7        42       0.024462       0.026783\n",
      "8         9       0.024455       0.027683\n",
      "9        27       0.023779       0.028577\n",
      "10       47       0.023310       0.025747\n",
      "11       22       0.022138       0.020458\n",
      "12       10       0.021189       0.015261\n",
      "13       28       0.020392       0.022780\n",
      "14       56       0.019589       0.023310\n",
      "15       58       0.019578       0.017079\n",
      "16       20       0.019245       0.019946\n",
      "17       62       0.018520       0.026677\n",
      "18       46       0.017497       0.025063\n",
      "19       26       0.015786       0.014146\n",
      "20       74       0.015090       0.011568\n",
      "21       45       0.014526       0.011438\n",
      "22       13       0.014343       0.015128\n",
      "23       14       0.014324       0.014834\n",
      "24       33       0.014028       0.012303\n",
      "25       34       0.013468       0.011931\n",
      "26       15       0.013343       0.010792\n",
      "27       31       0.012801       0.009548\n",
      "28       11       0.011857       0.011230\n",
      "29       38       0.011807       0.011829\n",
      "30       40       0.011535       0.010573\n",
      "31       54       0.011150       0.013734\n",
      "32       36       0.010821       0.011573\n",
      "33        5       0.010519       0.012089\n",
      "34       21       0.010329       0.008280\n",
      "35       51       0.010316       0.013336\n",
      "36       37       0.010145       0.011194\n",
      "37        3       0.010039       0.012499\n",
      "38        6       0.010007       0.018387\n",
      "40        1       0.009762       0.015066\n",
      "41       83       0.009636       0.012630\n",
      "42       24       0.009226       0.013479\n",
      "43        4       0.009194       0.012869\n",
      "44       86       0.009082       0.008752\n",
      "45       82       0.008515       0.010944\n"
     ]
    }
   ],
   "source": [
    "merged_feature_importances = merged_feature_importances[(merged_feature_importances['Importance_DT'] > importance_threshold_dt) & (merged_feature_importances['Importance_RF'] > importance_threshold_rf)]\n",
    "print(\"Merged Feature Importances:\")\n",
    "print(merged_feature_importances)"
   ]
  },
  {
   "cell_type": "markdown",
   "metadata": {},
   "source": [
    "## Dropping the feature which are not in the percentile"
   ]
  },
  {
   "cell_type": "code",
   "execution_count": 656,
   "metadata": {},
   "outputs": [],
   "source": [
    "X = X.drop(X.columns.difference(X.columns[merged_feature_importances['Feature']]), axis=1)\n"
   ]
  },
  {
   "cell_type": "code",
   "execution_count": 657,
   "metadata": {},
   "outputs": [],
   "source": [
    "column_names = list(X.columns)"
   ]
  },
  {
   "cell_type": "code",
   "execution_count": 658,
   "metadata": {},
   "outputs": [],
   "source": [
    "X_train, X_test, y_train, y_test = train_test_split(X, y, test_size=0.2, random_state=42)"
   ]
  },
  {
   "cell_type": "markdown",
   "metadata": {},
   "source": [
    "# PCA train test dataset"
   ]
  },
  {
   "cell_type": "code",
   "execution_count": 659,
   "metadata": {},
   "outputs": [],
   "source": [
    "#X_train_pca, X_test_pca, y_train_pca, y_test_pca = train_test_split(X_pca, y, test_size=0.2, random_state=42)"
   ]
  },
  {
   "cell_type": "markdown",
   "metadata": {},
   "source": [
    "# Modell building - Random forest and AdaBoost with Voting"
   ]
  },
  {
   "cell_type": "markdown",
   "metadata": {},
   "source": [
    "## Using 80 percentil dataset"
   ]
  },
  {
   "cell_type": "code",
   "execution_count": 660,
   "metadata": {},
   "outputs": [
    {
     "name": "stderr",
     "output_type": "stream",
     "text": [
      "[Parallel(n_jobs=-1)]: Using backend ThreadingBackend with 12 concurrent workers.\n",
      "[Parallel(n_jobs=-1)]: Done  26 tasks      | elapsed:    0.8s\n",
      "[Parallel(n_jobs=-1)]: Done 150 out of 150 | elapsed:    3.1s finished\n"
     ]
    },
    {
     "name": "stdout",
     "output_type": "stream",
     "text": [
      "[Voting] ....................... (1 of 2) Processing rf, total=   4.5s\n"
     ]
    },
    {
     "name": "stderr",
     "output_type": "stream",
     "text": [
      "/Users/kissdanielmark/Documents/01.Iskola/MSc/3/Customer Analytics/Competition/CustomerAnalytics_Competition/.venv/lib/python3.9/site-packages/sklearn/ensemble/_weight_boosting.py:519: FutureWarning: The SAMME.R algorithm (the default) is deprecated and will be removed in 1.6. Use the SAMME algorithm to circumvent this warning.\n",
      "  warnings.warn(\n"
     ]
    },
    {
     "name": "stdout",
     "output_type": "stream",
     "text": [
      "[Voting] ...................... (2 of 2) Processing ada, total=  10.6s\n"
     ]
    },
    {
     "name": "stderr",
     "output_type": "stream",
     "text": [
      "[Parallel(n_jobs=12)]: Using backend ThreadingBackend with 12 concurrent workers.\n",
      "[Parallel(n_jobs=12)]: Done  26 tasks      | elapsed:    0.0s\n",
      "[Parallel(n_jobs=12)]: Done 150 out of 150 | elapsed:    0.1s finished\n"
     ]
    },
    {
     "name": "stdout",
     "output_type": "stream",
     "text": [
      "Accuracy (Voting Classifier): 0.98525\n"
     ]
    }
   ],
   "source": [
    "from sklearn.ensemble import RandomForestClassifier, AdaBoostClassifier, VotingClassifier\n",
    "from sklearn.metrics import accuracy_score\n",
    "\n",
    "base_rf = RandomForestClassifier(\n",
    "    n_jobs=-1,\n",
    "    n_estimators=150,\n",
    "    max_depth=12,\n",
    "    random_state=42,\n",
    "    criterion='entropy',\n",
    "    max_features='log2',\n",
    "    oob_score=True,\n",
    "    verbose=1\n",
    ")\n",
    "\n",
    "base_ada = AdaBoostClassifier(\n",
    "    n_estimators=150,\n",
    "    random_state=42,\n",
    "    learning_rate=1.5\n",
    ")\n",
    "\n",
    "voting_clf = VotingClassifier(\n",
    "    estimators=[\n",
    "        ('rf', base_rf),\n",
    "        ('ada', base_ada),\n",
    "    ],\n",
    "    voting='soft',\n",
    "    verbose=True\n",
    ")\n",
    "\n",
    "voting_clf.fit(X_train, y_train)\n",
    "\n",
    "y_pred_voting = voting_clf.predict(X_test)\n",
    "\n",
    "accuracy_voting = accuracy_score(y_test, y_pred_voting)\n",
    "print(\"Accuracy (Voting Classifier):\", accuracy_voting)\n"
   ]
  },
  {
   "cell_type": "markdown",
   "metadata": {},
   "source": [
    "## Using PCA"
   ]
  },
  {
   "cell_type": "code",
   "execution_count": 661,
   "metadata": {},
   "outputs": [
    {
     "data": {
      "text/plain": [
       "'from sklearn.ensemble import RandomForestClassifier, AdaBoostClassifier, VotingClassifier\\nfrom sklearn.metrics import accuracy_score\\n\\nbase_rf = RandomForestClassifier(n_jobs=-1, n_estimators=150, max_depth=12, random_state=42, criterion=\\'entropy\\', max_features=\\'log2\\', oob_score=True, verbose=1)\\nbase_ada = AdaBoostClassifier(n_estimators=150, random_state=42, learning_rate=1.5)\\n\\nvoting_clf = VotingClassifier(estimators=[(\\'rf\\', base_rf), (\\'ada\\', base_ada)], voting=\\'soft\\', verbose=True)\\n\\nvoting_clf.fit(X_train_pca, y_train_pca)\\n\\ny_pred_voting = voting_clf.predict(X_test_pca)\\n\\naccuracy_voting = accuracy_score(y_test_pca, y_pred_voting)\\nprint(\"Accuracy (Voting Classifier):\", accuracy_voting)'"
      ]
     },
     "execution_count": 661,
     "metadata": {},
     "output_type": "execute_result"
    }
   ],
   "source": [
    "\"\"\"from sklearn.ensemble import RandomForestClassifier, AdaBoostClassifier, VotingClassifier\n",
    "from sklearn.metrics import accuracy_score\n",
    "\n",
    "base_rf = RandomForestClassifier(n_jobs=-1, n_estimators=150, max_depth=12, random_state=42, criterion='entropy', max_features='log2', oob_score=True, verbose=1)\n",
    "base_ada = AdaBoostClassifier(n_estimators=150, random_state=42, learning_rate=1.5)\n",
    "\n",
    "voting_clf = VotingClassifier(estimators=[('rf', base_rf), ('ada', base_ada)], voting='soft', verbose=True)\n",
    "\n",
    "voting_clf.fit(X_train_pca, y_train_pca)\n",
    "\n",
    "y_pred_voting = voting_clf.predict(X_test_pca)\n",
    "\n",
    "accuracy_voting = accuracy_score(y_test_pca, y_pred_voting)\n",
    "print(\"Accuracy (Voting Classifier):\", accuracy_voting)\"\"\""
   ]
  },
  {
   "cell_type": "markdown",
   "metadata": {},
   "source": [
    "# Loading test set"
   ]
  },
  {
   "cell_type": "code",
   "execution_count": 662,
   "metadata": {},
   "outputs": [],
   "source": [
    "df_verseny_public_test = pd.read_csv('data/verseny_public_test.csv', sep=',', low_memory=False)"
   ]
  },
  {
   "cell_type": "markdown",
   "metadata": {},
   "source": [
    "# Evaluation"
   ]
  },
  {
   "cell_type": "markdown",
   "metadata": {},
   "source": [
    "## Using 80 percentil"
   ]
  },
  {
   "cell_type": "code",
   "execution_count": 663,
   "metadata": {},
   "outputs": [],
   "source": [
    "X_test_test = df_verseny_public_test.drop(['cookie_id'], axis=1)\n",
    "X_test_test = X_test_test[column_names]"
   ]
  },
  {
   "cell_type": "code",
   "execution_count": 664,
   "metadata": {},
   "outputs": [
    {
     "name": "stderr",
     "output_type": "stream",
     "text": [
      "[Parallel(n_jobs=12)]: Using backend ThreadingBackend with 12 concurrent workers.\n",
      "[Parallel(n_jobs=12)]: Done  26 tasks      | elapsed:    0.4s\n",
      "[Parallel(n_jobs=12)]: Done 150 out of 150 | elapsed:    0.6s finished\n"
     ]
    }
   ],
   "source": [
    "y_pred_rf = voting_clf.predict_proba(X_test_test)[:, 1]\n",
    "\n",
    "df_verseny_public_test['target'] = y_pred_rf\n",
    "\n",
    "df_verseny_public_test = df_verseny_public_test[['cookie_id', 'target']]\n",
    "\n",
    "df_verseny_public_test.to_csv('data/prediction_random_forest_w_adaboost_voting_80_entropy.csv', index=False)"
   ]
  },
  {
   "cell_type": "markdown",
   "metadata": {},
   "source": [
    "## Using PCA"
   ]
  },
  {
   "cell_type": "code",
   "execution_count": 665,
   "metadata": {},
   "outputs": [
    {
     "data": {
      "text/plain": [
       "\"from sklearn.decomposition import PCA\\nfrom sklearn.preprocessing import StandardScaler\\n\\nX_test_test = df_verseny_public_test.drop(['cookie_id'], axis=1)\\n\\nscaler = StandardScaler()\\n\\nX_scaled = scaler.fit_transform(X_test_test)\\n\\npca = PCA(n_components=50)\\n\\nX_pca = pca.fit_transform(X_scaled)\\n\\ny_pred_rf = voting_clf.predict_proba(X_pca)[:, 1]\\n\\ndf_verseny_public_test['target'] = y_pred_rf\\n\\ndf_verseny_public_test = df_verseny_public_test[['cookie_id', 'target']]\\n\\ndf_verseny_public_test.to_csv('data/prediction_random_forest_w_adaboost_voting_PCA.csv', index=False)\""
      ]
     },
     "execution_count": 665,
     "metadata": {},
     "output_type": "execute_result"
    }
   ],
   "source": [
    "\"\"\"from sklearn.decomposition import PCA\n",
    "from sklearn.preprocessing import StandardScaler\n",
    "\n",
    "X_test_test = df_verseny_public_test.drop(['cookie_id'], axis=1)\n",
    "\n",
    "scaler = StandardScaler()\n",
    "\n",
    "X_scaled = scaler.fit_transform(X_test_test)\n",
    "\n",
    "pca = PCA(n_components=50)\n",
    "\n",
    "X_pca = pca.fit_transform(X_scaled)\n",
    "\n",
    "y_pred_rf = voting_clf.predict_proba(X_pca)[:, 1]\n",
    "\n",
    "df_verseny_public_test['target'] = y_pred_rf\n",
    "\n",
    "df_verseny_public_test = df_verseny_public_test[['cookie_id', 'target']]\n",
    "\n",
    "df_verseny_public_test.to_csv('data/prediction_random_forest_w_adaboost_voting_PCA.csv', index=False)\"\"\""
   ]
  }
 ],
 "metadata": {
  "kernelspec": {
   "display_name": ".venv",
   "language": "python",
   "name": "python3"
  },
  "language_info": {
   "codemirror_mode": {
    "name": "ipython",
    "version": 3
   },
   "file_extension": ".py",
   "mimetype": "text/x-python",
   "name": "python",
   "nbconvert_exporter": "python",
   "pygments_lexer": "ipython3",
   "version": "3.9.6"
  }
 },
 "nbformat": 4,
 "nbformat_minor": 2
}
