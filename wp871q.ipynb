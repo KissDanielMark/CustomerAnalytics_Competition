{
 "cells": [
  {
   "cell_type": "markdown",
   "metadata": {},
   "source": [
    "# <center>Kiss Dániel Márk</center>\n",
    "## <center>WP871Q</center>"
   ]
  },
  {
   "cell_type": "markdown",
   "metadata": {},
   "source": [
    "# Library import"
   ]
  },
  {
   "cell_type": "code",
   "execution_count": 1,
   "metadata": {},
   "outputs": [],
   "source": [
    "import numpy as np\n",
    "import matplotlib.pyplot as plt\n",
    "import pandas as pd\n",
    "from sklearn.model_selection import train_test_split\n",
    "from sklearn.tree import DecisionTreeClassifier\n",
    "from sklearn.ensemble import RandomForestClassifier\n",
    "import numpy as np\n",
    "from sklearn.metrics import accuracy_score"
   ]
  },
  {
   "cell_type": "markdown",
   "metadata": {},
   "source": [
    "# Data import"
   ]
  },
  {
   "cell_type": "code",
   "execution_count": 2,
   "metadata": {},
   "outputs": [],
   "source": [
    "df_verseny_public_train = pd.read_csv('data/verseny_public_train.csv', sep=',', low_memory=False)"
   ]
  },
  {
   "cell_type": "markdown",
   "metadata": {},
   "source": [
    "# Data familirsation"
   ]
  },
  {
   "cell_type": "code",
   "execution_count": 3,
   "metadata": {},
   "outputs": [],
   "source": [
    "#df_verseny_public_train"
   ]
  },
  {
   "cell_type": "code",
   "execution_count": 4,
   "metadata": {},
   "outputs": [],
   "source": [
    "#df_verseny_public_train.describe()"
   ]
  },
  {
   "cell_type": "code",
   "execution_count": 5,
   "metadata": {},
   "outputs": [],
   "source": [
    "#df_verseny_public_train.columns"
   ]
  },
  {
   "cell_type": "markdown",
   "metadata": {},
   "source": [
    "# PCA"
   ]
  },
  {
   "cell_type": "code",
   "execution_count": 6,
   "metadata": {},
   "outputs": [
    {
     "data": {
      "text/plain": [
       "\"from sklearn.decomposition import PCA\\nfrom sklearn.preprocessing import StandardScaler\\n\\nX = df_verseny_public_train.drop(['target', 'cookie_id'], axis=1)\\ny = df_verseny_public_train['target']\\n\\nscaler = StandardScaler()\\n\\nX_scaled = scaler.fit_transform(X)\\n\\npca = PCA(n_components=50)\\n\\nX_pca = pca.fit_transform(X_scaled)\\n\\nX_pca\\n\\nplt.scatter(X_pca[:, 0], X_pca[:, 1], c=y, cmap='viridis')\\n\\nplt.xlabel('First principal component')\\n\\nplt.ylabel('Second principal component')\\n\\nplt.show()\""
      ]
     },
     "execution_count": 6,
     "metadata": {},
     "output_type": "execute_result"
    }
   ],
   "source": [
    "\"\"\"from sklearn.decomposition import PCA\n",
    "from sklearn.preprocessing import StandardScaler\n",
    "\n",
    "X = df_verseny_public_train.drop(['target', 'cookie_id'], axis=1)\n",
    "y = df_verseny_public_train['target']\n",
    "\n",
    "scaler = StandardScaler()\n",
    "\n",
    "X_scaled = scaler.fit_transform(X)\n",
    "\n",
    "pca = PCA(n_components=50)\n",
    "\n",
    "X_pca = pca.fit_transform(X_scaled)\n",
    "\n",
    "X_pca\n",
    "\n",
    "plt.scatter(X_pca[:, 0], X_pca[:, 1], c=y, cmap='viridis')\n",
    "\n",
    "plt.xlabel('First principal component')\n",
    "\n",
    "plt.ylabel('Second principal component')\n",
    "\n",
    "plt.show()\"\"\""
   ]
  },
  {
   "cell_type": "markdown",
   "metadata": {},
   "source": [
    "# Feature importance"
   ]
  },
  {
   "cell_type": "code",
   "execution_count": 7,
   "metadata": {},
   "outputs": [],
   "source": [
    "X = df_verseny_public_train.drop(['target', 'cookie_id'], axis=1)\n",
    "y = df_verseny_public_train['target']\n",
    "\n",
    "X_train, X_test, y_train, y_test = train_test_split(X, y, test_size=0.2, random_state=42)"
   ]
  },
  {
   "cell_type": "markdown",
   "metadata": {},
   "source": [
    "## Decision Tree"
   ]
  },
  {
   "cell_type": "code",
   "execution_count": 8,
   "metadata": {},
   "outputs": [
    {
     "name": "stdout",
     "output_type": "stream",
     "text": [
      "Feature ranking:\n",
      "1. Feature 59 (0.039201) Topic42_ec\n",
      "2. Feature 17 (0.028596) Topic12_ec\n",
      "3. Feature 82 (0.027758) Topic63_ic\n",
      "4. Feature 70 (0.026757) Topic56_ic\n",
      "5. Feature 16 (0.025207) Topic12_ic\n",
      "6. Feature 7 (0.024401) Topic4_ec\n",
      "7. Feature 68 (0.023617) Topic55_ic\n",
      "8. Feature 21 (0.022902) Topic14_ec\n",
      "9. Feature 83 (0.021666) Topic63_ec\n",
      "10. Feature 66 (0.020895) Topic54_ic\n",
      "11. Feature 6 (0.019504) Topic4_ic\n",
      "12. Feature 61 (0.018777) Topic51_ec\n",
      "13. Feature 69 (0.017137) Topic55_ec\n",
      "14. Feature 28 (0.015794) Topic19_ic\n",
      "15. Feature 29 (0.015732) Topic19_ec\n",
      "16. Feature 63 (0.014528) Topic52_ec\n",
      "17. Feature 67 (0.014215) Topic54_ec\n",
      "18. Feature 18 (0.013627) Topic13_ic\n",
      "19. Feature 19 (0.013382) Topic13_ec\n",
      "20. Feature 20 (0.012953) Topic14_ic\n",
      "21. Feature 135 (0.012892) Topic99_ec\n",
      "22. Feature 14 (0.012359) Topic10_ic\n",
      "23. Feature 9 (0.012071) Topic5_ec\n",
      "24. Feature 71 (0.011774) Topic56_ec\n",
      "25. Feature 57 (0.010957) Topic41_ec\n",
      "26. Feature 130 (0.010819) Topic97_ic\n",
      "27. Feature 87 (0.010592) Topic65_ec\n",
      "28. Feature 22 (0.010456) Topic15_ic\n",
      "29. Feature 13 (0.010180) Topic9_ec\n",
      "30. Feature 131 (0.010032) Topic97_ec\n",
      "31. Feature 4 (0.010004) Topic3_ic\n",
      "32. Feature 15 (0.009982) Topic10_ec\n",
      "33. Feature 3 (0.009656) Topic2_ec\n",
      "34. Feature 176 (0.009594) Topic137_ic\n",
      "35. Feature 86 (0.009416) Topic65_ic\n",
      "36. Feature 37 (0.008913) Topic25_ec\n",
      "37. Feature 177 (0.008685) Topic137_ec\n",
      "38. Feature 35 (0.008683) Topic24_ec\n",
      "39. Feature 12 (0.008671) Topic9_ic\n",
      "40. Feature 175 (0.008639) Topic136_ec\n",
      "41. Feature 0 (0.008352) Topic1_ic\n",
      "42. Feature 65 (0.008280) Topic53_ec\n",
      "43. Feature 2 (0.008098) Topic2_ic\n",
      "44. Feature 174 (0.007839) Topic136_ic\n",
      "45. Feature 56 (0.007789) Topic41_ic\n",
      "46. Feature 45 (0.007624) Topic33_ec\n",
      "47. Feature 5 (0.007393) Topic3_ec\n",
      "48. Feature 10 (0.007265) Topic8_ic\n",
      "49. Feature 24 (0.007094) Topic16_ic\n",
      "50. Feature 60 (0.007034) Topic51_ic\n",
      "51. Feature 105 (0.007000) Topic74_ec\n",
      "52. Feature 1 (0.006764) Topic1_ec\n",
      "53. Feature 34 (0.006560) Topic24_ic\n",
      "54. Feature 58 (0.006330) Topic42_ic\n",
      "55. Feature 11 (0.006223) Topic8_ec\n",
      "56. Feature 62 (0.006056) Topic52_ic\n",
      "57. Feature 94 (0.006010) Topic69_ic\n",
      "58. Feature 119 (0.005959) Topic88_ec\n",
      "59. Feature 51 (0.005859) Topic36_ec\n",
      "60. Feature 44 (0.005743) Topic33_ic\n",
      "61. Feature 55 (0.005489) Topic40_ec\n",
      "62. Feature 123 (0.005474) Topic91_ec\n",
      "63. Feature 30 (0.005320) Topic20_ic\n",
      "64. Feature 115 (0.005304) Topic86_ec\n",
      "65. Feature 8 (0.004975) Topic5_ic\n",
      "66. Feature 25 (0.004830) Topic16_ec\n",
      "67. Feature 49 (0.004496) Topic35_ec\n",
      "68. Feature 173 (0.004484) Topic135_ec\n",
      "69. Feature 31 (0.004439) Topic20_ec\n",
      "70. Feature 78 (0.004251) Topic61_ic\n",
      "71. Feature 155 (0.004139) Topic117_ec\n",
      "72. Feature 152 (0.004043) Topic116_ic\n",
      "73. Feature 36 (0.003868) Topic25_ic\n",
      "74. Feature 133 (0.003854) Topic98_ec\n",
      "75. Feature 95 (0.003832) Topic69_ec\n",
      "76. Feature 32 (0.003796) Topic23_ic\n",
      "77. Feature 104 (0.003779) Topic74_ic\n",
      "78. Feature 99 (0.003717) Topic71_ec\n",
      "79. Feature 134 (0.003652) Topic99_ic\n",
      "80. Feature 154 (0.003578) Topic117_ic\n",
      "81. Feature 23 (0.003547) Topic15_ec\n",
      "82. Feature 77 (0.003168) Topic60_ec\n",
      "83. Feature 101 (0.003155) Topic72_ec\n",
      "84. Feature 169 (0.003154) Topic133_ec\n",
      "85. Feature 85 (0.003137) Topic64_ec\n",
      "86. Feature 38 (0.003117) Topic26_ic\n",
      "87. Feature 53 (0.003069) Topic37_ec\n",
      "88. Feature 128 (0.002986) Topic96_ic\n",
      "89. Feature 91 (0.002929) Topic67_ec\n",
      "90. Feature 114 (0.002925) Topic86_ic\n",
      "91. Feature 80 (0.002899) Topic62_ic\n",
      "92. Feature 40 (0.002796) Topic27_ic\n",
      "93. Feature 203 (0.002759) Topic155_ec\n",
      "94. Feature 64 (0.002712) Topic53_ic\n",
      "95. Feature 79 (0.002583) Topic61_ec\n",
      "96. Feature 165 (0.002571) Topic130_ec\n",
      "97. Feature 121 (0.002569) Topic89_ec\n",
      "98. Feature 52 (0.002562) Topic37_ic\n",
      "99. Feature 33 (0.002544) Topic23_ec\n",
      "100. Feature 54 (0.002523) Topic40_ic\n",
      "101. Feature 159 (0.002487) Topic127_ec\n",
      "102. Feature 39 (0.002466) Topic26_ec\n",
      "103. Feature 163 (0.002449) Topic129_ec\n",
      "104. Feature 48 (0.002447) Topic35_ic\n",
      "105. Feature 103 (0.002406) Topic73_ec\n",
      "106. Feature 41 (0.002306) Topic27_ec\n",
      "107. Feature 88 (0.002274) Topic66_ic\n",
      "108. Feature 147 (0.002263) Topic107_ec\n",
      "109. Feature 109 (0.002205) Topic82_ec\n",
      "110. Feature 149 (0.002180) Topic108_ec\n",
      "111. Feature 132 (0.002139) Topic98_ic\n",
      "112. Feature 106 (0.002089) Topic78_ic\n",
      "113. Feature 124 (0.002052) Topic92_ic\n",
      "114. Feature 97 (0.001978) Topic70_ec\n",
      "115. Feature 116 (0.001859) Topic87_ic\n",
      "116. Feature 92 (0.001850) Topic68_ic\n",
      "117. Feature 129 (0.001803) Topic96_ec\n",
      "118. Feature 73 (0.001802) Topic57_ec\n",
      "119. Feature 153 (0.001750) Topic116_ec\n",
      "120. Feature 143 (0.001747) Topic105_ec\n",
      "121. Feature 75 (0.001706) Topic58_ec\n",
      "122. Feature 93 (0.001705) Topic68_ec\n",
      "123. Feature 118 (0.001665) Topic88_ic\n",
      "124. Feature 201 (0.001624) Topic154_ec\n",
      "125. Feature 72 (0.001605) Topic57_ic\n",
      "126. Feature 107 (0.001590) Topic78_ec\n",
      "127. Feature 158 (0.001557) Topic127_ic\n",
      "128. Feature 89 (0.001551) Topic66_ec\n",
      "129. Feature 167 (0.001530) Topic131_ec\n",
      "130. Feature 202 (0.001518) Topic155_ic\n",
      "131. Feature 195 (0.001508) Topic151_ec\n",
      "132. Feature 141 (0.001487) Topic104_ec\n",
      "133. Feature 50 (0.001485) Topic36_ic\n",
      "134. Feature 100 (0.001417) Topic72_ic\n",
      "135. Feature 122 (0.001406) Topic91_ic\n",
      "136. Feature 27 (0.001392) Topic18_ec\n",
      "137. Feature 47 (0.001281) Topic34_ec\n",
      "138. Feature 120 (0.001223) Topic89_ic\n",
      "139. Feature 113 (0.001204) Topic85_ec\n",
      "140. Feature 161 (0.001190) Topic128_ec\n",
      "141. Feature 102 (0.001167) Topic73_ic\n",
      "142. Feature 148 (0.001109) Topic108_ic\n",
      "143. Feature 170 (0.001055) Topic134_ic\n",
      "144. Feature 81 (0.001029) Topic62_ec\n",
      "145. Feature 117 (0.000970) Topic87_ec\n",
      "146. Feature 43 (0.000897) Topic28_ec\n",
      "147. Feature 126 (0.000882) Topic93_ic\n",
      "148. Feature 207 (0.000856) Topic157_ec\n",
      "149. Feature 160 (0.000820) Topic128_ic\n",
      "150. Feature 200 (0.000811) Topic154_ic\n",
      "151. Feature 230 (0.000810) Topic169_ic\n",
      "152. Feature 125 (0.000794) Topic92_ec\n",
      "153. Feature 180 (0.000784) Topic140_ic\n",
      "154. Feature 162 (0.000780) Topic129_ic\n",
      "155. Feature 42 (0.000757) Topic28_ic\n",
      "156. Feature 187 (0.000746) Topic146_ec\n",
      "157. Feature 139 (0.000736) Topic103_ec\n",
      "158. Feature 198 (0.000658) Topic153_ic\n",
      "159. Feature 112 (0.000576) Topic85_ic\n",
      "160. Feature 84 (0.000465) Topic64_ic\n",
      "161. Feature 151 (0.000453) Topic114_ec\n",
      "162. Feature 137 (0.000436) Topic100_ec\n",
      "163. Feature 138 (0.000432) Topic103_ic\n",
      "164. Feature 127 (0.000416) Topic93_ec\n",
      "165. Feature 179 (0.000414) Topic138_ec\n",
      "166. Feature 76 (0.000405) Topic60_ic\n",
      "167. Feature 136 (0.000402) Topic100_ic\n",
      "168. Feature 74 (0.000390) Topic58_ic\n",
      "169. Feature 168 (0.000387) Topic133_ic\n",
      "170. Feature 98 (0.000384) Topic71_ic\n",
      "171. Feature 199 (0.000363) Topic153_ec\n",
      "172. Feature 171 (0.000359) Topic134_ec\n",
      "173. Feature 183 (0.000307) Topic144_ec\n",
      "174. Feature 142 (0.000256) Topic105_ic\n",
      "175. Feature 164 (0.000160) Topic130_ic\n",
      "176. Feature 145 (0.000096) Topic106_ec\n",
      "177. Feature 197 (0.000069) Topic152_ec\n",
      "178. Feature 185 (0.000052) Topic145_ec\n",
      "179. Feature 146 (0.000001) Topic107_ic\n",
      "180. Feature 194 (0.000000) Topic151_ic\n",
      "181. Feature 156 (0.000000) Topic126_ic\n",
      "182. Feature 110 (0.000000) Topic83_ic\n",
      "183. Feature 108 (0.000000) Topic82_ic\n",
      "184. Feature 46 (0.000000) Topic34_ic\n",
      "185. Feature 166 (0.000000) Topic131_ic\n",
      "186. Feature 157 (0.000000) Topic126_ec\n",
      "187. Feature 196 (0.000000) Topic152_ic\n",
      "188. Feature 222 (0.000000) Topic165_ic\n",
      "189. Feature 184 (0.000000) Topic145_ic\n",
      "190. Feature 186 (0.000000) Topic146_ic\n",
      "191. Feature 232 (0.000000) Topic170_ic\n",
      "192. Feature 224 (0.000000) Topic166_ic\n",
      "193. Feature 231 (0.000000) Topic169_ec\n",
      "194. Feature 226 (0.000000) Topic167_ic\n",
      "195. Feature 238 (0.000000) Topic173_ic\n",
      "196. Feature 233 (0.000000) Topic170_ec\n",
      "197. Feature 234 (0.000000) Topic171_ic\n",
      "198. Feature 229 (0.000000) Topic168_ec\n",
      "199. Feature 235 (0.000000) Topic171_ec\n",
      "200. Feature 236 (0.000000) Topic172_ic\n",
      "201. Feature 237 (0.000000) Topic172_ec\n",
      "202. Feature 26 (0.000000) Topic18_ic\n",
      "203. Feature 228 (0.000000) Topic168_ic\n",
      "204. Feature 227 (0.000000) Topic167_ec\n",
      "205. Feature 225 (0.000000) Topic166_ec\n",
      "206. Feature 96 (0.000000) Topic70_ic\n",
      "207. Feature 239 (0.000000) Topic173_ec\n",
      "208. Feature 240 (0.000000) Topic174_ic\n",
      "209. Feature 241 (0.000000) Topic174_ec\n",
      "210. Feature 242 (0.000000) Topic175_ic\n",
      "211. Feature 243 (0.000000) Topic175_ec\n",
      "212. Feature 244 (0.000000) Topic176_ic\n",
      "213. Feature 245 (0.000000) Topic176_ec\n",
      "214. Feature 246 (0.000000) Topic177_ic\n",
      "215. Feature 247 (0.000000) Topic177_ec\n",
      "216. Feature 248 (0.000000) Topic178_ic\n",
      "217. Feature 249 (0.000000) Topic178_ec\n",
      "218. Feature 250 (0.000000) Topic179_ic\n",
      "219. Feature 251 (0.000000) Topic179_ec\n",
      "220. Feature 252 (0.000000) Topic180_ic\n",
      "221. Feature 253 (0.000000) Topic180_ec\n",
      "222. Feature 223 (0.000000) Topic165_ec\n",
      "223. Feature 209 (0.000000) Topic158_ec\n",
      "224. Feature 221 (0.000000) Topic164_ec\n",
      "225. Feature 193 (0.000000) Topic150_ec\n",
      "226. Feature 111 (0.000000) Topic83_ec\n",
      "227. Feature 254 (0.000000) Topic181_ic\n",
      "228. Feature 140 (0.000000) Topic104_ic\n",
      "229. Feature 144 (0.000000) Topic106_ic\n",
      "230. Feature 150 (0.000000) Topic114_ic\n",
      "231. Feature 172 (0.000000) Topic135_ic\n",
      "232. Feature 178 (0.000000) Topic138_ic\n",
      "233. Feature 181 (0.000000) Topic140_ec\n",
      "234. Feature 182 (0.000000) Topic144_ic\n",
      "235. Feature 188 (0.000000) Topic148_ic\n",
      "236. Feature 189 (0.000000) Topic148_ec\n",
      "237. Feature 190 (0.000000) Topic149_ic\n",
      "238. Feature 191 (0.000000) Topic149_ec\n",
      "239. Feature 192 (0.000000) Topic150_ic\n",
      "240. Feature 204 (0.000000) Topic156_ic\n",
      "241. Feature 220 (0.000000) Topic164_ic\n",
      "242. Feature 205 (0.000000) Topic156_ec\n",
      "243. Feature 206 (0.000000) Topic157_ic\n",
      "244. Feature 208 (0.000000) Topic158_ic\n",
      "245. Feature 90 (0.000000) Topic67_ic\n",
      "246. Feature 210 (0.000000) Topic159_ic\n",
      "247. Feature 211 (0.000000) Topic159_ec\n",
      "248. Feature 212 (0.000000) Topic160_ic\n",
      "249. Feature 213 (0.000000) Topic160_ec\n",
      "250. Feature 214 (0.000000) Topic161_ic\n",
      "251. Feature 215 (0.000000) Topic161_ec\n",
      "252. Feature 216 (0.000000) Topic162_ic\n",
      "253. Feature 217 (0.000000) Topic162_ec\n",
      "254. Feature 218 (0.000000) Topic163_ic\n",
      "255. Feature 219 (0.000000) Topic163_ec\n",
      "256. Feature 255 (0.000000) Topic181_ec\n"
     ]
    },
    {
     "data": {
      "image/png": "[encoded data removed]",
      "text/plain": [
       "<Figure size 640x480 with 1 Axes>"
      ]
     },
     "metadata": {},
     "output_type": "display_data"
    }
   ],
   "source": [
    "clf = DecisionTreeClassifier()\n",
    "\n",
    "clf.fit(X_train, y_train)\n",
    "\n",
    "importances = clf.feature_importances_\n",
    "\n",
    "indices = np.argsort(importances)[::-1]\n",
    "\n",
    "print(\"Feature ranking:\")\n",
    "for f in range(X.shape[1]):\n",
    "    print(\"%d. Feature %d (%f) %s\" % (f + 1, indices[f], importances[indices[f]], X.columns[indices[f]]))\n",
    "\n",
    "\n",
    "plt.figure()\n",
    "plt.title(\"Feature importances\")\n",
    "plt.bar(range(X.shape[1]), importances[indices],\n",
    "       color=\"r\", align=\"center\")\n",
    "plt.xticks(range(X.shape[1]), indices)\n",
    "plt.xlim([-1, X.shape[1]])\n",
    "plt.show()"
   ]
  },
  {
   "cell_type": "markdown",
   "metadata": {},
   "source": [
    "## Random forest"
   ]
  },
  {
   "cell_type": "code",
   "execution_count": 9,
   "metadata": {},
   "outputs": [
    {
     "name": "stdout",
     "output_type": "stream",
     "text": [
      "Feature ranking:\n",
      "1. Feature 7 (0.024427) Topic4_ec\n",
      "2. Feature 68 (0.023351) Topic55_ic\n",
      "3. Feature 17 (0.022993) Topic12_ec\n",
      "4. Feature 21 (0.022253) Topic14_ec\n",
      "5. Feature 82 (0.021825) Topic63_ic\n",
      "6. Feature 19 (0.021777) Topic13_ec\n",
      "7. Feature 16 (0.021087) Topic12_ic\n",
      "8. Feature 6 (0.021038) Topic4_ic\n",
      "9. Feature 83 (0.020162) Topic63_ec\n",
      "10. Feature 20 (0.020052) Topic14_ic\n",
      "11. Feature 18 (0.019531) Topic13_ic\n",
      "12. Feature 71 (0.019487) Topic56_ec\n",
      "13. Feature 70 (0.018912) Topic56_ic\n",
      "14. Feature 59 (0.018500) Topic42_ec\n",
      "15. Feature 4 (0.017936) Topic3_ic\n",
      "16. Feature 61 (0.017247) Topic51_ec\n",
      "17. Feature 69 (0.016827) Topic55_ec\n",
      "18. Feature 66 (0.016688) Topic54_ic\n",
      "19. Feature 67 (0.015981) Topic54_ec\n",
      "20. Feature 28 (0.013930) Topic19_ic\n",
      "21. Feature 29 (0.013682) Topic19_ec\n",
      "22. Feature 12 (0.012051) Topic9_ic\n",
      "23. Feature 1 (0.011659) Topic1_ec\n",
      "24. Feature 105 (0.011410) Topic74_ec\n",
      "25. Feature 87 (0.011115) Topic65_ec\n",
      "26. Feature 14 (0.010905) Topic10_ic\n",
      "27. Feature 63 (0.010842) Topic52_ec\n",
      "28. Feature 35 (0.010761) Topic24_ec\n",
      "29. Feature 22 (0.010718) Topic15_ic\n",
      "30. Feature 58 (0.010428) Topic42_ic\n",
      "31. Feature 57 (0.010326) Topic41_ec\n",
      "32. Feature 5 (0.010196) Topic3_ec\n",
      "33. Feature 11 (0.010129) Topic8_ec\n",
      "34. Feature 13 (0.009623) Topic9_ec\n",
      "35. Feature 9 (0.009604) Topic5_ec\n",
      "36. Feature 0 (0.009304) Topic1_ic\n",
      "37. Feature 56 (0.009177) Topic41_ic\n",
      "38. Feature 34 (0.009157) Topic24_ic\n",
      "39. Feature 15 (0.009083) Topic10_ec\n",
      "40. Feature 45 (0.009080) Topic33_ec\n",
      "41. Feature 86 (0.009058) Topic65_ic\n",
      "42. Feature 60 (0.008737) Topic51_ic\n",
      "43. Feature 175 (0.008406) Topic136_ec\n",
      "44. Feature 23 (0.008192) Topic15_ec\n",
      "45. Feature 177 (0.007912) Topic137_ec\n",
      "46. Feature 25 (0.007870) Topic16_ec\n",
      "47. Feature 174 (0.007795) Topic136_ic\n",
      "48. Feature 8 (0.007692) Topic5_ic\n",
      "49. Feature 131 (0.007626) Topic97_ec\n",
      "50. Feature 135 (0.007511) Topic99_ec\n",
      "51. Feature 3 (0.007430) Topic2_ec\n",
      "52. Feature 10 (0.007102) Topic8_ic\n",
      "53. Feature 130 (0.007026) Topic97_ic\n",
      "54. Feature 37 (0.006635) Topic25_ec\n",
      "55. Feature 176 (0.006415) Topic137_ic\n",
      "56. Feature 134 (0.006333) Topic99_ic\n",
      "57. Feature 36 (0.006253) Topic25_ic\n",
      "58. Feature 62 (0.006154) Topic52_ic\n",
      "59. Feature 55 (0.006139) Topic40_ec\n",
      "60. Feature 104 (0.005801) Topic74_ic\n",
      "61. Feature 33 (0.005748) Topic23_ec\n",
      "62. Feature 123 (0.005506) Topic91_ec\n",
      "63. Feature 65 (0.005457) Topic53_ec\n",
      "64. Feature 2 (0.005349) Topic2_ic\n",
      "65. Feature 24 (0.005192) Topic16_ic\n",
      "66. Feature 54 (0.004768) Topic40_ic\n",
      "67. Feature 121 (0.004712) Topic89_ec\n",
      "68. Feature 44 (0.004635) Topic33_ic\n",
      "69. Feature 94 (0.004518) Topic69_ic\n",
      "70. Feature 49 (0.004457) Topic35_ec\n",
      "71. Feature 43 (0.004380) Topic28_ec\n",
      "72. Feature 41 (0.004346) Topic27_ec\n",
      "73. Feature 32 (0.004090) Topic23_ic\n",
      "74. Feature 51 (0.003988) Topic36_ec\n",
      "75. Feature 64 (0.003848) Topic53_ic\n",
      "76. Feature 31 (0.003697) Topic20_ec\n",
      "77. Feature 122 (0.003549) Topic91_ic\n",
      "78. Feature 95 (0.003470) Topic69_ec\n",
      "79. Feature 152 (0.003377) Topic116_ic\n",
      "80. Feature 77 (0.003224) Topic60_ec\n",
      "81. Feature 30 (0.003173) Topic20_ic\n",
      "82. Feature 109 (0.003135) Topic82_ec\n",
      "83. Feature 53 (0.003048) Topic37_ec\n",
      "84. Feature 133 (0.003040) Topic98_ec\n",
      "85. Feature 203 (0.002981) Topic155_ec\n",
      "86. Feature 78 (0.002854) Topic61_ic\n",
      "87. Feature 42 (0.002841) Topic28_ic\n",
      "88. Feature 107 (0.002793) Topic78_ec\n",
      "89. Feature 119 (0.002779) Topic88_ec\n",
      "90. Feature 128 (0.002739) Topic96_ic\n",
      "91. Feature 79 (0.002738) Topic61_ec\n",
      "92. Feature 115 (0.002716) Topic86_ec\n",
      "93. Feature 40 (0.002651) Topic27_ic\n",
      "94. Feature 120 (0.002642) Topic89_ic\n",
      "95. Feature 50 (0.002580) Topic36_ic\n",
      "96. Feature 155 (0.002548) Topic117_ec\n",
      "97. Feature 80 (0.002465) Topic62_ic\n",
      "98. Feature 93 (0.002456) Topic68_ec\n",
      "99. Feature 132 (0.002446) Topic98_ic\n",
      "100. Feature 202 (0.002435) Topic155_ic\n",
      "101. Feature 48 (0.002424) Topic35_ic\n",
      "102. Feature 76 (0.002330) Topic60_ic\n",
      "103. Feature 81 (0.002119) Topic62_ec\n",
      "104. Feature 129 (0.002092) Topic96_ec\n",
      "105. Feature 38 (0.002090) Topic26_ic\n",
      "106. Feature 52 (0.002085) Topic37_ic\n",
      "107. Feature 149 (0.002085) Topic108_ec\n",
      "108. Feature 117 (0.002034) Topic87_ec\n",
      "109. Feature 89 (0.001997) Topic66_ec\n",
      "110. Feature 39 (0.001988) Topic26_ec\n",
      "111. Feature 101 (0.001943) Topic72_ec\n",
      "112. Feature 154 (0.001942) Topic117_ic\n",
      "113. Feature 169 (0.001941) Topic133_ec\n",
      "114. Feature 153 (0.001915) Topic116_ec\n",
      "115. Feature 73 (0.001681) Topic57_ec\n",
      "116. Feature 116 (0.001679) Topic87_ic\n",
      "117. Feature 114 (0.001678) Topic86_ic\n",
      "118. Feature 113 (0.001644) Topic85_ec\n",
      "119. Feature 47 (0.001609) Topic34_ec\n",
      "120. Feature 108 (0.001604) Topic82_ic\n",
      "121. Feature 92 (0.001595) Topic68_ic\n",
      "122. Feature 159 (0.001594) Topic127_ec\n",
      "123. Feature 125 (0.001579) Topic92_ec\n",
      "124. Feature 165 (0.001565) Topic130_ec\n",
      "125. Feature 170 (0.001497) Topic134_ic\n",
      "126. Feature 173 (0.001492) Topic135_ec\n",
      "127. Feature 127 (0.001460) Topic93_ec\n",
      "128. Feature 147 (0.001421) Topic107_ec\n",
      "129. Feature 167 (0.001419) Topic131_ec\n",
      "130. Feature 91 (0.001379) Topic67_ec\n",
      "131. Feature 46 (0.001370) Topic34_ic\n",
      "132. Feature 106 (0.001359) Topic78_ic\n",
      "133. Feature 99 (0.001350) Topic71_ec\n",
      "134. Feature 88 (0.001286) Topic66_ic\n",
      "135. Feature 100 (0.001275) Topic72_ic\n",
      "136. Feature 97 (0.001254) Topic70_ec\n",
      "137. Feature 148 (0.001253) Topic108_ic\n",
      "138. Feature 103 (0.001250) Topic73_ec\n",
      "139. Feature 124 (0.001248) Topic92_ic\n",
      "140. Feature 141 (0.001247) Topic104_ec\n",
      "141. Feature 168 (0.001180) Topic133_ic\n",
      "142. Feature 163 (0.001178) Topic129_ec\n",
      "143. Feature 171 (0.001177) Topic134_ec\n",
      "144. Feature 201 (0.001145) Topic154_ec\n",
      "145. Feature 85 (0.001099) Topic64_ec\n",
      "146. Feature 118 (0.001090) Topic88_ic\n",
      "147. Feature 139 (0.001065) Topic103_ec\n",
      "148. Feature 164 (0.001062) Topic130_ic\n",
      "149. Feature 161 (0.001061) Topic128_ec\n",
      "150. Feature 112 (0.001024) Topic85_ic\n",
      "151. Feature 72 (0.001012) Topic57_ic\n",
      "152. Feature 126 (0.001009) Topic93_ic\n",
      "153. Feature 158 (0.001002) Topic127_ic\n",
      "154. Feature 143 (0.001001) Topic105_ec\n",
      "155. Feature 172 (0.000994) Topic135_ic\n",
      "156. Feature 162 (0.000954) Topic129_ic\n",
      "157. Feature 102 (0.000946) Topic73_ic\n",
      "158. Feature 146 (0.000817) Topic107_ic\n",
      "159. Feature 137 (0.000816) Topic100_ec\n",
      "160. Feature 111 (0.000800) Topic83_ec\n",
      "161. Feature 84 (0.000795) Topic64_ic\n",
      "162. Feature 166 (0.000780) Topic131_ic\n",
      "163. Feature 96 (0.000773) Topic70_ic\n",
      "164. Feature 98 (0.000761) Topic71_ic\n",
      "165. Feature 75 (0.000745) Topic58_ec\n",
      "166. Feature 145 (0.000720) Topic106_ec\n",
      "167. Feature 27 (0.000709) Topic18_ec\n",
      "168. Feature 26 (0.000661) Topic18_ic\n",
      "169. Feature 151 (0.000646) Topic114_ec\n",
      "170. Feature 200 (0.000644) Topic154_ic\n",
      "171. Feature 90 (0.000627) Topic67_ic\n",
      "172. Feature 160 (0.000615) Topic128_ic\n",
      "173. Feature 183 (0.000609) Topic144_ec\n",
      "174. Feature 142 (0.000598) Topic105_ic\n",
      "175. Feature 140 (0.000581) Topic104_ic\n",
      "176. Feature 195 (0.000571) Topic151_ec\n",
      "177. Feature 179 (0.000515) Topic138_ec\n",
      "178. Feature 138 (0.000499) Topic103_ic\n",
      "179. Feature 144 (0.000482) Topic106_ic\n",
      "180. Feature 150 (0.000467) Topic114_ic\n",
      "181. Feature 136 (0.000465) Topic100_ic\n",
      "182. Feature 198 (0.000465) Topic153_ic\n",
      "183. Feature 180 (0.000455) Topic140_ic\n",
      "184. Feature 197 (0.000453) Topic152_ec\n",
      "185. Feature 186 (0.000451) Topic146_ic\n",
      "186. Feature 182 (0.000445) Topic144_ic\n",
      "187. Feature 74 (0.000441) Topic58_ic\n",
      "188. Feature 187 (0.000404) Topic146_ec\n",
      "189. Feature 178 (0.000393) Topic138_ic\n",
      "190. Feature 181 (0.000370) Topic140_ec\n",
      "191. Feature 194 (0.000348) Topic151_ic\n",
      "192. Feature 110 (0.000315) Topic83_ic\n",
      "193. Feature 230 (0.000299) Topic169_ic\n",
      "194. Feature 199 (0.000252) Topic153_ec\n",
      "195. Feature 196 (0.000216) Topic152_ic\n",
      "196. Feature 206 (0.000201) Topic157_ic\n",
      "197. Feature 184 (0.000185) Topic145_ic\n",
      "198. Feature 185 (0.000179) Topic145_ec\n",
      "199. Feature 207 (0.000162) Topic157_ec\n",
      "200. Feature 231 (0.000129) Topic169_ec\n",
      "201. Feature 205 (0.000126) Topic156_ec\n",
      "202. Feature 192 (0.000090) Topic150_ic\n",
      "203. Feature 193 (0.000082) Topic150_ec\n",
      "204. Feature 224 (0.000071) Topic166_ic\n",
      "205. Feature 204 (0.000068) Topic156_ic\n",
      "206. Feature 225 (0.000063) Topic166_ec\n",
      "207. Feature 157 (0.000027) Topic126_ec\n",
      "208. Feature 208 (0.000027) Topic158_ic\n",
      "209. Feature 191 (0.000022) Topic149_ec\n",
      "210. Feature 209 (0.000020) Topic158_ec\n",
      "211. Feature 211 (0.000014) Topic159_ec\n",
      "212. Feature 228 (0.000010) Topic168_ic\n",
      "213. Feature 190 (0.000007) Topic149_ic\n",
      "214. Feature 210 (0.000006) Topic159_ic\n",
      "215. Feature 188 (0.000005) Topic148_ic\n",
      "216. Feature 227 (0.000005) Topic167_ec\n",
      "217. Feature 213 (0.000005) Topic160_ec\n",
      "218. Feature 220 (0.000004) Topic164_ic\n",
      "219. Feature 189 (0.000002) Topic148_ec\n",
      "220. Feature 221 (0.000002) Topic164_ec\n",
      "221. Feature 237 (0.000001) Topic172_ec\n",
      "222. Feature 156 (0.000001) Topic126_ic\n",
      "223. Feature 240 (0.000000) Topic174_ic\n",
      "224. Feature 226 (0.000000) Topic167_ic\n",
      "225. Feature 247 (0.000000) Topic177_ec\n",
      "226. Feature 222 (0.000000) Topic165_ic\n",
      "227. Feature 223 (0.000000) Topic165_ec\n",
      "228. Feature 246 (0.000000) Topic177_ic\n",
      "229. Feature 252 (0.000000) Topic180_ic\n",
      "230. Feature 251 (0.000000) Topic179_ec\n",
      "231. Feature 250 (0.000000) Topic179_ic\n",
      "232. Feature 249 (0.000000) Topic178_ec\n",
      "233. Feature 248 (0.000000) Topic178_ic\n",
      "234. Feature 239 (0.000000) Topic173_ec\n",
      "235. Feature 245 (0.000000) Topic176_ec\n",
      "236. Feature 244 (0.000000) Topic176_ic\n",
      "237. Feature 243 (0.000000) Topic175_ec\n",
      "238. Feature 242 (0.000000) Topic175_ic\n",
      "239. Feature 241 (0.000000) Topic174_ec\n",
      "240. Feature 253 (0.000000) Topic180_ec\n",
      "241. Feature 238 (0.000000) Topic173_ic\n",
      "242. Feature 212 (0.000000) Topic160_ic\n",
      "243. Feature 236 (0.000000) Topic172_ic\n",
      "244. Feature 235 (0.000000) Topic171_ec\n",
      "245. Feature 234 (0.000000) Topic171_ic\n",
      "246. Feature 233 (0.000000) Topic170_ec\n",
      "247. Feature 232 (0.000000) Topic170_ic\n",
      "248. Feature 214 (0.000000) Topic161_ic\n",
      "249. Feature 215 (0.000000) Topic161_ec\n",
      "250. Feature 229 (0.000000) Topic168_ec\n",
      "251. Feature 216 (0.000000) Topic162_ic\n",
      "252. Feature 217 (0.000000) Topic162_ec\n",
      "253. Feature 218 (0.000000) Topic163_ic\n",
      "254. Feature 219 (0.000000) Topic163_ec\n",
      "255. Feature 254 (0.000000) Topic181_ic\n",
      "256. Feature 255 (0.000000) Topic181_ec\n"
     ]
    },
    {
     "data": {
      "image/png": "[encoded data removed]",
      "text/plain": [
       "<Figure size 640x480 with 1 Axes>"
      ]
     },
     "metadata": {},
     "output_type": "display_data"
    }
   ],
   "source": [
    "clf_rf = RandomForestClassifier()\n",
    "\n",
    "clf_rf.fit(X_train, y_train)\n",
    "\n",
    "\n",
    "importances_rf = clf_rf.feature_importances_\n",
    "\n",
    "\n",
    "indices_rf = np.argsort(importances_rf)[::-1]\n",
    "\n",
    "print(\"Feature ranking:\")\n",
    "for f in range(X.shape[1]):\n",
    "    print(\"%d. Feature %d (%f) %s\" % (f + 1, indices_rf[f], importances_rf[indices_rf[f]], X.columns[indices_rf[f]]))\n",
    "\n",
    "plt.figure()\n",
    "plt.title(\"Feature importances (Random Forest)\")\n",
    "plt.bar(range(X.shape[1]), importances_rf[indices_rf],\n",
    "       color=\"r\", align=\"center\")\n",
    "plt.xticks(range(X.shape[1]), indices_rf)\n",
    "plt.xlim([-1, X.shape[1]])\n",
    "plt.show()"
   ]
  },
  {
   "cell_type": "code",
   "execution_count": 10,
   "metadata": {},
   "outputs": [
    {
     "name": "stdout",
     "output_type": "stream",
     "text": [
      "Merged Feature Importances:\n",
      "     Feature  Importance_DT  Importance_RF\n",
      "0         59       0.039201       0.018500\n",
      "1         17       0.028596       0.022993\n",
      "2         82       0.027758       0.021825\n",
      "3         70       0.026757       0.018912\n",
      "4         16       0.025207       0.021087\n",
      "..       ...            ...            ...\n",
      "251      216       0.000000       0.000000\n",
      "252      217       0.000000       0.000000\n",
      "253      218       0.000000       0.000000\n",
      "254      219       0.000000       0.000000\n",
      "255      255       0.000000       0.000000\n",
      "\n",
      "[256 rows x 3 columns]\n"
     ]
    }
   ],
   "source": [
    "dt_feature_importances = pd.DataFrame({'Feature': indices, 'Importance_DT': importances[indices]})\n",
    "rf_feature_importances = pd.DataFrame({'Feature': indices_rf, 'Importance_RF': importances_rf[indices_rf]})\n",
    "\n",
    "merged_feature_importances = pd.merge(dt_feature_importances, rf_feature_importances, on='Feature')\n",
    "\n",
    "print(\"Merged Feature Importances:\")\n",
    "print(merged_feature_importances)"
   ]
  },
  {
   "cell_type": "code",
   "execution_count": 11,
   "metadata": {},
   "outputs": [
    {
     "name": "stdout",
     "output_type": "stream",
     "text": [
      "Threshold value based on the top 80 percentileDT: 0.0067643267555623 percentileRF: 0.007101799625754781\n"
     ]
    }
   ],
   "source": [
    "percentile_threshold = 0.8\n",
    "\n",
    "importance_threshold_dt = merged_feature_importances['Importance_DT'].quantile(percentile_threshold)\n",
    "importance_threshold_rf = merged_feature_importances['Importance_RF'].quantile(percentile_threshold)\n",
    "\n",
    "print(\"Threshold value based on the top\", int(percentile_threshold * 100), \"percentileDT:\", importance_threshold_dt, \"percentileRF:\", importance_threshold_rf)\n"
   ]
  },
  {
   "cell_type": "code",
   "execution_count": 12,
   "metadata": {},
   "outputs": [
    {
     "name": "stdout",
     "output_type": "stream",
     "text": [
      "Merged Feature Importances:\n",
      "    Feature  Importance_DT  Importance_RF\n",
      "0        59       0.039201       0.018500\n",
      "1        17       0.028596       0.022993\n",
      "2        82       0.027758       0.021825\n",
      "3        70       0.026757       0.018912\n",
      "4        16       0.025207       0.021087\n",
      "5         7       0.024401       0.024427\n",
      "6        68       0.023617       0.023351\n",
      "7        21       0.022902       0.022253\n",
      "8        83       0.021666       0.020162\n",
      "9        66       0.020895       0.016688\n",
      "10        6       0.019504       0.021038\n",
      "11       61       0.018777       0.017247\n",
      "12       69       0.017137       0.016827\n",
      "13       28       0.015794       0.013930\n",
      "14       29       0.015732       0.013682\n",
      "15       63       0.014528       0.010842\n",
      "16       67       0.014215       0.015981\n",
      "17       18       0.013627       0.019531\n",
      "18       19       0.013382       0.021777\n",
      "19       20       0.012953       0.020052\n",
      "20      135       0.012892       0.007511\n",
      "21       14       0.012359       0.010905\n",
      "22        9       0.012071       0.009604\n",
      "23       71       0.011774       0.019487\n",
      "24       57       0.010957       0.010326\n",
      "26       87       0.010592       0.011115\n",
      "27       22       0.010456       0.010718\n",
      "28       13       0.010180       0.009623\n",
      "29      131       0.010032       0.007626\n",
      "30        4       0.010004       0.017936\n",
      "31       15       0.009982       0.009083\n",
      "32        3       0.009656       0.007430\n",
      "34       86       0.009416       0.009058\n",
      "36      177       0.008685       0.007912\n",
      "37       35       0.008683       0.010761\n",
      "38       12       0.008671       0.012051\n",
      "39      175       0.008639       0.008406\n",
      "40        0       0.008352       0.009304\n",
      "43      174       0.007839       0.007795\n",
      "44       56       0.007789       0.009177\n",
      "45       45       0.007624       0.009080\n",
      "46        5       0.007393       0.010196\n",
      "49       60       0.007034       0.008737\n",
      "50      105       0.007000       0.011410\n"
     ]
    }
   ],
   "source": [
    "merged_feature_importances = merged_feature_importances[(merged_feature_importances['Importance_DT'] > importance_threshold_dt) & (merged_feature_importances['Importance_RF'] > importance_threshold_rf)]\n",
    "print(\"Merged Feature Importances:\")\n",
    "print(merged_feature_importances)"
   ]
  },
  {
   "cell_type": "markdown",
   "metadata": {},
   "source": [
    "## Dropping the feature which are not in the percentile"
   ]
  },
  {
   "cell_type": "code",
   "execution_count": 13,
   "metadata": {},
   "outputs": [],
   "source": [
    "X = X.drop(X.columns.difference(X.columns[merged_feature_importances['Feature']]), axis=1)\n"
   ]
  },
  {
   "cell_type": "code",
   "execution_count": 14,
   "metadata": {},
   "outputs": [
    {
     "data": {
      "text/plain": [
       "44"
      ]
     },
     "execution_count": 14,
     "metadata": {},
     "output_type": "execute_result"
    }
   ],
   "source": [
    "len(X.columns)"
   ]
  },
  {
   "cell_type": "code",
   "execution_count": 15,
   "metadata": {},
   "outputs": [],
   "source": [
    "X_train, X_test, y_train, y_test = train_test_split(X, y, test_size=0.2, random_state=42)"
   ]
  },
  {
   "cell_type": "markdown",
   "metadata": {},
   "source": [
    "# PCA train test dataset"
   ]
  },
  {
   "cell_type": "code",
   "execution_count": 16,
   "metadata": {},
   "outputs": [],
   "source": [
    "#X_train_pca, X_test_pca, y_train_pca, y_test_pca = train_test_split(X_pca, y, test_size=0.2, random_state=42)"
   ]
  },
  {
   "cell_type": "markdown",
   "metadata": {},
   "source": [
    "# Modell building - Random forest and AdaBoost with Voting"
   ]
  },
  {
   "cell_type": "markdown",
   "metadata": {},
   "source": [
    "## Using 80 percentil dataset"
   ]
  },
  {
   "cell_type": "code",
   "execution_count": 17,
   "metadata": {},
   "outputs": [
    {
     "name": "stderr",
     "output_type": "stream",
     "text": [
      "[Parallel(n_jobs=-1)]: Using backend ThreadingBackend with 12 concurrent workers.\n",
      "[Parallel(n_jobs=-1)]: Done  26 tasks      | elapsed:    0.8s\n",
      "[Parallel(n_jobs=-1)]: Done 150 out of 150 | elapsed:    2.7s finished\n"
     ]
    },
    {
     "name": "stdout",
     "output_type": "stream",
     "text": [
      "[Voting] ....................... (1 of 2) Processing rf, total=   4.0s\n"
     ]
    },
    {
     "name": "stderr",
     "output_type": "stream",
     "text": [
      "/Users/kissdanielmark/Documents/01.Iskola/MSc/3/Customer Analytics/Competition/CustomerAnalytics_Competition/.venv/lib/python3.9/site-packages/sklearn/ensemble/_weight_boosting.py:519: FutureWarning: The SAMME.R algorithm (the default) is deprecated and will be removed in 1.6. Use the SAMME algorithm to circumvent this warning.\n",
      "  warnings.warn(\n"
     ]
    },
    {
     "name": "stdout",
     "output_type": "stream",
     "text": [
      "[Voting] ...................... (2 of 2) Processing ada, total=  11.3s\n"
     ]
    },
    {
     "name": "stderr",
     "output_type": "stream",
     "text": [
      "[Parallel(n_jobs=12)]: Using backend ThreadingBackend with 12 concurrent workers.\n",
      "[Parallel(n_jobs=12)]: Done  26 tasks      | elapsed:    0.0s\n",
      "[Parallel(n_jobs=12)]: Done 150 out of 150 | elapsed:    0.1s finished\n"
     ]
    },
    {
     "name": "stdout",
     "output_type": "stream",
     "text": [
      "Accuracy (Voting Classifier): 0.98525\n"
     ]
    }
   ],
   "source": [
    "from sklearn.ensemble import RandomForestClassifier, AdaBoostClassifier, VotingClassifier\n",
    "from sklearn.metrics import accuracy_score\n",
    "\n",
    "base_rf = RandomForestClassifier(n_jobs=-1, n_estimators=150, max_depth=12, random_state=42, criterion='log_loss', max_features='log2', oob_score=True, verbose=1)\n",
    "base_ada = AdaBoostClassifier(n_estimators=150, random_state=42, learning_rate=1.5)\n",
    "\n",
    "voting_clf = VotingClassifier(estimators=[('rf', base_rf), ('ada', base_ada)], voting='soft', verbose=True)\n",
    "\n",
    "voting_clf.fit(X_train, y_train)\n",
    "\n",
    "y_pred_voting = voting_clf.predict(X_test)\n",
    "\n",
    "accuracy_voting = accuracy_score(y_test, y_pred_voting)\n",
    "print(\"Accuracy (Voting Classifier):\", accuracy_voting)\n"
   ]
  },
  {
   "cell_type": "markdown",
   "metadata": {},
   "source": [
    "## Using PCA"
   ]
  },
  {
   "cell_type": "code",
   "execution_count": 18,
   "metadata": {},
   "outputs": [
    {
     "data": {
      "text/plain": [
       "'from sklearn.ensemble import RandomForestClassifier, AdaBoostClassifier, VotingClassifier\\nfrom sklearn.metrics import accuracy_score\\n\\nbase_rf = RandomForestClassifier(n_jobs=-1, n_estimators=150, max_depth=12, random_state=42, criterion=\\'entropy\\', max_features=\\'log2\\', oob_score=True, verbose=1)\\nbase_ada = AdaBoostClassifier(n_estimators=150, random_state=42, learning_rate=1.5)\\n\\nvoting_clf = VotingClassifier(estimators=[(\\'rf\\', base_rf), (\\'ada\\', base_ada)], voting=\\'soft\\', verbose=True)\\n\\nvoting_clf.fit(X_train_pca, y_train_pca)\\n\\ny_pred_voting = voting_clf.predict(X_test_pca)\\n\\naccuracy_voting = accuracy_score(y_test_pca, y_pred_voting)\\nprint(\"Accuracy (Voting Classifier):\", accuracy_voting)'"
      ]
     },
     "execution_count": 18,
     "metadata": {},
     "output_type": "execute_result"
    }
   ],
   "source": [
    "\"\"\"from sklearn.ensemble import RandomForestClassifier, AdaBoostClassifier, VotingClassifier\n",
    "from sklearn.metrics import accuracy_score\n",
    "\n",
    "base_rf = RandomForestClassifier(n_jobs=-1, n_estimators=150, max_depth=12, random_state=42, criterion='entropy', max_features='log2', oob_score=True, verbose=1)\n",
    "base_ada = AdaBoostClassifier(n_estimators=150, random_state=42, learning_rate=1.5)\n",
    "\n",
    "voting_clf = VotingClassifier(estimators=[('rf', base_rf), ('ada', base_ada)], voting='soft', verbose=True)\n",
    "\n",
    "voting_clf.fit(X_train_pca, y_train_pca)\n",
    "\n",
    "y_pred_voting = voting_clf.predict(X_test_pca)\n",
    "\n",
    "accuracy_voting = accuracy_score(y_test_pca, y_pred_voting)\n",
    "print(\"Accuracy (Voting Classifier):\", accuracy_voting)\"\"\""
   ]
  },
  {
   "cell_type": "markdown",
   "metadata": {},
   "source": [
    "# Loading test set"
   ]
  },
  {
   "cell_type": "code",
   "execution_count": 19,
   "metadata": {},
   "outputs": [],
   "source": [
    "df_verseny_public_test = pd.read_csv('data/verseny_public_test.csv', sep=',', low_memory=False)"
   ]
  },
  {
   "cell_type": "markdown",
   "metadata": {},
   "source": [
    "# Evaluation"
   ]
  },
  {
   "cell_type": "markdown",
   "metadata": {},
   "source": [
    "## Using 80 percentil"
   ]
  },
  {
   "cell_type": "code",
   "execution_count": 20,
   "metadata": {},
   "outputs": [
    {
     "name": "stderr",
     "output_type": "stream",
     "text": [
      "[Parallel(n_jobs=12)]: Using backend ThreadingBackend with 12 concurrent workers.\n",
      "[Parallel(n_jobs=12)]: Done  26 tasks      | elapsed:    0.1s\n",
      "[Parallel(n_jobs=12)]: Done 150 out of 150 | elapsed:    0.3s finished\n"
     ]
    }
   ],
   "source": [
    "X_test_test = df_verseny_public_test.drop(['cookie_id'], axis=1)\n",
    "\n",
    "X_test_test = X_test_test.drop(X_test_test.columns.difference(X.columns), axis=1)\n",
    "\n",
    "y_pred_rf = voting_clf.predict_proba(X_test_test)[:, 1]\n",
    "\n",
    "df_verseny_public_test['target'] = y_pred_rf\n",
    "\n",
    "df_verseny_public_test = df_verseny_public_test[['cookie_id', 'target']]\n",
    "\n",
    "df_verseny_public_test.to_csv('data/prediction_random_forest_w_adaboost_voting_80_param_logloss.csv', index=False)"
   ]
  },
  {
   "cell_type": "markdown",
   "metadata": {},
   "source": [
    "## Using PCA"
   ]
  },
  {
   "cell_type": "code",
   "execution_count": 21,
   "metadata": {},
   "outputs": [
    {
     "data": {
      "text/plain": [
       "\"from sklearn.decomposition import PCA\\nfrom sklearn.preprocessing import StandardScaler\\n\\nX_test_test = df_verseny_public_test.drop(['cookie_id'], axis=1)\\n\\nscaler = StandardScaler()\\n\\nX_scaled = scaler.fit_transform(X_test_test)\\n\\npca = PCA(n_components=50)\\n\\nX_pca = pca.fit_transform(X_scaled)\\n\\ny_pred_rf = voting_clf.predict_proba(X_pca)[:, 1]\\n\\ndf_verseny_public_test['target'] = y_pred_rf\\n\\ndf_verseny_public_test = df_verseny_public_test[['cookie_id', 'target']]\\n\\ndf_verseny_public_test.to_csv('data/prediction_random_forest_w_adaboost_voting_PCA.csv', index=False)\""
      ]
     },
     "execution_count": 21,
     "metadata": {},
     "output_type": "execute_result"
    }
   ],
   "source": [
    "\"\"\"from sklearn.decomposition import PCA\n",
    "from sklearn.preprocessing import StandardScaler\n",
    "\n",
    "X_test_test = df_verseny_public_test.drop(['cookie_id'], axis=1)\n",
    "\n",
    "scaler = StandardScaler()\n",
    "\n",
    "X_scaled = scaler.fit_transform(X_test_test)\n",
    "\n",
    "pca = PCA(n_components=50)\n",
    "\n",
    "X_pca = pca.fit_transform(X_scaled)\n",
    "\n",
    "y_pred_rf = voting_clf.predict_proba(X_pca)[:, 1]\n",
    "\n",
    "df_verseny_public_test['target'] = y_pred_rf\n",
    "\n",
    "df_verseny_public_test = df_verseny_public_test[['cookie_id', 'target']]\n",
    "\n",
    "df_verseny_public_test.to_csv('data/prediction_random_forest_w_adaboost_voting_PCA.csv', index=False)\"\"\""
   ]
  }
 ],
 "metadata": {
  "kernelspec": {
   "display_name": ".venv",
   "language": "python",
   "name": "python3"
  },
  "language_info": {
   "codemirror_mode": {
    "name": "ipython",
    "version": 3
   },
   "file_extension": ".py",
   "mimetype": "text/x-python",
   "name": "python",
   "nbconvert_exporter": "python",
   "pygments_lexer": "ipython3",
   "version": "3.9.6"
  }
 },
 "nbformat": 4,
 "nbformat_minor": 2
}
